{
 "cells": [
  {
   "cell_type": "markdown",
   "id": "62451fce",
   "metadata": {},
   "source": [
    "## LLM + PROMPT = LLMChain"
   ]
  },
  {
   "cell_type": "code",
   "execution_count": 1,
   "id": "63981e82",
   "metadata": {},
   "outputs": [
    {
     "name": "stderr",
     "output_type": "stream",
     "text": [
      "/Users/uan/anaconda3/envs/agents/lib/python3.10/site-packages/langchain/llms/openai.py:171: UserWarning: You are trying to use a chat model. This way of initializing it is no longer supported. Instead, please use: `from langchain.chat_models import ChatOpenAI`\n",
      "  warnings.warn(\n",
      "/Users/uan/anaconda3/envs/agents/lib/python3.10/site-packages/langchain/llms/openai.py:740: UserWarning: You are trying to use a chat model. This way of initializing it is no longer supported. Instead, please use: `from langchain.chat_models import ChatOpenAI`\n",
      "  warnings.warn(\n"
     ]
    },
    {
     "data": {
      "text/plain": [
       "\"As an AI language model, I don't have personal preferences or experiences. However, here's an example of a perfect day in Paris:\\n\\nStart the day with a croissant and coffee at a local café, then head to the Eiffel Tower to take in the stunning views of the city. Next, visit the Louvre Museum to see some of the world's most famous art, including the Mona Lisa.\\n\\nFor lunch, enjoy a picnic in the Luxembourg Gardens, complete with fresh baguettes, cheese, and wine. Afterward, take a stroll through the charming streets of Montmartre, stopping to admire the Sacré-Cœur Basilica and browse the local shops.\\n\\nIn the evening, indulge in a delicious French dinner at a Michelin-starred restaurant, followed by a show at the Moulin Rouge. End the night with a romantic walk along the Seine River, taking in the beautiful lights of the city.\""
      ]
     },
     "execution_count": 1,
     "metadata": {},
     "output_type": "execute_result"
    }
   ],
   "source": [
    "import os\n",
    "import openai\n",
    "from langchain.prompts import PromptTemplate\n",
    "from langchain.llms import OpenAI\n",
    "from langchain.chains import LLMChain\n",
    "\n",
    "from dotenv import load_dotenv\n",
    "\n",
    "load_dotenv()\n",
    "\n",
    "def get_secret(name):\n",
    "    if name in os.environ:\n",
    "        return os.environ[name]\n",
    "    return os.getenv(name)\n",
    "\n",
    "# create .env in project dir and set api keys there\n",
    "openai.api_key = get_secret('OPENAI_API_KEY')\n",
    "\n",
    " \n",
    "prompt = PromptTemplate(\n",
    "    input_variables=[\"city\"],\n",
    "    template=\"Describe a perfect day in {city}?\",\n",
    ")\n",
    " \n",
    "\n",
    "\n",
    "llmchain = LLMChain(llm=OpenAI(model_name=\"gpt-3.5-turbo-0301\", temperature=0.0) , prompt=prompt)\n",
    "llmchain.run(\"Paris\")"
   ]
  },
  {
   "cell_type": "markdown",
   "id": "8517d94f",
   "metadata": {},
   "source": [
    "## Langchain chains, example LLMMathChain"
   ]
  },
  {
   "cell_type": "code",
   "execution_count": 2,
   "id": "3b2406d6",
   "metadata": {},
   "outputs": [
    {
     "name": "stderr",
     "output_type": "stream",
     "text": [
      "/Users/uan/anaconda3/envs/agents/lib/python3.10/site-packages/langchain/chains/llm_math/base.py:50: UserWarning: Directly instantiating an LLMMathChain with an llm is deprecated. Please instantiate with llm_chain argument or using the from_llm class method.\n",
      "  warnings.warn(\n"
     ]
    },
    {
     "data": {
      "text/plain": [
       "'Answer: 15'"
      ]
     },
     "execution_count": 2,
     "metadata": {},
     "output_type": "execute_result"
    }
   ],
   "source": [
    "import json\n",
    "import paths\n",
    "from langchain.llms import OpenAIChat\n",
    "\n",
    "from langchain.chains import LLMMathChain\n",
    "math_chain = LLMMathChain(llm=OpenAI(model_name=\"gpt-3.5-turbo-0301\", temperature=0.0))\n",
    "\n",
    "\n",
    "math_chain.run(\"\"\"I have 5 apple trees. Each apple tree has 3 apples growing on it.\n",
    "How many apples are there on 5 apple trees?\"\"\")"
   ]
  },
  {
   "cell_type": "code",
   "execution_count": 3,
   "id": "0398e1ec",
   "metadata": {},
   "outputs": [
    {
     "data": {
      "text/plain": [
       "'Answer: 105'"
      ]
     },
     "execution_count": 3,
     "metadata": {},
     "output_type": "execute_result"
    }
   ],
   "source": [
    "math_chain.run(\"\"\"I have 5 apple trees. Each apple tree gives 3 apples each year.\n",
    "How many apples I can collect after 7 years?\"\"\")"
   ]
  },
  {
   "cell_type": "code",
   "execution_count": 3,
   "id": "a31ab74c",
   "metadata": {},
   "outputs": [
    {
     "name": "stdout",
     "output_type": "stream",
     "text": [
      "\n",
      "\n",
      "\u001b[1m> Entering new LLMMathChain chain...\u001b[0m\n",
      "I have 5 apple trees. Each apple tree gives 3 apples each year.\n",
      "How many apples I can collect after 7 years? I also eat 8 apples every 3 years\u001b[32;1m\u001b[1;3m```text\n",
      "(5 * 3 * 7) - (8 * (7 // 3))\n",
      "```\n",
      "...numexpr.evaluate(\"(5 * 3 * 7) - (8 * (7 // 3))\")...\n",
      "\u001b[0m\n",
      "Answer: \u001b[33;1m\u001b[1;3m89\u001b[0m\n",
      "\u001b[1m> Finished chain.\u001b[0m\n"
     ]
    },
    {
     "data": {
      "text/plain": [
       "'Answer: 89'"
      ]
     },
     "execution_count": 3,
     "metadata": {},
     "output_type": "execute_result"
    }
   ],
   "source": [
    "math_chain = LLMMathChain(llm=OpenAI(model_name=\"gpt-3.5-turbo-0301\", temperature=0.0), verbose=True)\n",
    "math_chain.run(\"\"\"I have 5 apple trees. Each apple tree gives 3 apples each year.\n",
    "How many apples I can collect after 7 years? I also eat 8 apples every 3 years\"\"\")"
   ]
  },
  {
   "cell_type": "code",
   "execution_count": 4,
   "id": "584171b3",
   "metadata": {},
   "outputs": [
    {
     "data": {
      "text/plain": [
       "89"
      ]
     },
     "execution_count": 4,
     "metadata": {},
     "output_type": "execute_result"
    }
   ],
   "source": [
    "(5 * 3 * 7) - (8 * (7 // 3))"
   ]
  },
  {
   "cell_type": "code",
   "execution_count": 6,
   "id": "894f2cbf",
   "metadata": {},
   "outputs": [],
   "source": [
    "# math_chain = LLMMathChain(llm=OpenAI(model_name=\"gpt-3.5-turbo-0301\", temperature=0.0, verbose=True))\n",
    "# math_chain.run(\"\"\"I have 5 apple trees. Each apple tree gives 3 apples each year.\n",
    "# How many apples I can collect after 7 years if I lose 7 apples on 3rd year ?\"\"\")"
   ]
  },
  {
   "cell_type": "markdown",
   "id": "5b828d2d",
   "metadata": {},
   "source": [
    "## chain =  LLM  + Solidity compiler(check if is compilable)"
   ]
  },
  {
   "cell_type": "code",
   "execution_count": 7,
   "id": "f30f59c8",
   "metadata": {},
   "outputs": [
    {
     "name": "stdout",
     "output_type": "stream",
     "text": [
      "Installing '0.8.9'...\n",
      "Version '0.8.9' installed.\n",
      "Switched global version to 0.8.9\n"
     ]
    }
   ],
   "source": [
    "! solc-select install 0.8.9\n",
    "! solc-select use 0.8.9"
   ]
  },
  {
   "cell_type": "code",
   "execution_count": 5,
   "id": "a1576f43",
   "metadata": {},
   "outputs": [],
   "source": [
    "# copied from https://python.langchain.com/en/latest/modules/chains/generic/custom_chain.html\n",
    "\n",
    "from __future__ import annotations\n",
    "\n",
    "from typing import Any, Dict, List, Optional\n",
    "\n",
    "from pydantic import Extra\n",
    "\n",
    "from langchain.base_language import BaseLanguageModel\n",
    "from langchain.callbacks.manager import (\n",
    "    AsyncCallbackManagerForChainRun,\n",
    "    CallbackManagerForChainRun,\n",
    ")\n",
    "from langchain.chains.base import Chain\n",
    "from langchain.prompts.base import BasePromptTemplate\n",
    "\n",
    "\n",
    "class MyCustomChain(Chain):\n",
    "    \n",
    "    \"\"\"\n",
    "    An example of a custom chain.\n",
    "    \"\"\"\n",
    "\n",
    "    prompt: BasePromptTemplate\n",
    "    \"\"\"Prompt object to use.\"\"\"\n",
    "    llm: BaseLanguageModel\n",
    "    output_key: str = \"text\"  #: :meta private:\n",
    "\n",
    "    class Config:\n",
    "        \"\"\"Configuration for this pydantic object.\"\"\"\n",
    "\n",
    "        extra = Extra.forbid\n",
    "        arbitrary_types_allowed = True\n",
    "\n",
    "    @property\n",
    "    def input_keys(self) -> List[str]:\n",
    "        \"\"\"Will be whatever keys the prompt expects.\n",
    "\n",
    "        :meta private:\n",
    "        \"\"\"\n",
    "        return self.prompt.input_variables\n",
    "\n",
    "    @property\n",
    "    def output_keys(self) -> List[str]:\n",
    "        \"\"\"Will always return text key.\n",
    "\n",
    "        :meta private:\n",
    "        \"\"\"\n",
    "        return [self.output_key]\n",
    "\n",
    "    def _call(\n",
    "        self,\n",
    "        inputs: Dict[str, Any],\n",
    "        run_manager: Optional[CallbackManagerForChainRun] = None,\n",
    "    ) -> Dict[str, str]:\n",
    "        # Your custom chain logic goes here\n",
    "        # This is just an example that mimics LLMChain\n",
    "        prompt_value = self.prompt.format_prompt(**inputs)\n",
    "        \n",
    "        solidity_function = inputs['solidity_function']\n",
    "        if not_compilable(solidity_function):\n",
    "            return {self.output_key: \"not compilable\"}\n",
    "        \n",
    "        # Whenever you call a language model, or another chain, you should pass\n",
    "        # a callback manager to it. This allows the inner run to be tracked by\n",
    "        # any callbacks that are registered on the outer run.\n",
    "        # You can always obtain a callback manager for this by calling\n",
    "        # `run_manager.get_child()` as shown below.\n",
    "        response = self.llm.generate_prompt(\n",
    "            [prompt_value],\n",
    "            callbacks=run_manager.get_child() if run_manager else None\n",
    "        )\n",
    "\n",
    "        # If you want to log something about this run, you can do so by calling\n",
    "        # methods on the `run_manager`, as shown below. This will trigger any\n",
    "        # callbacks that are registered for that event.\n",
    "        if run_manager:\n",
    "            run_manager.on_text(\"Log something about this run\")\n",
    "        \n",
    "        return {self.output_key: response.generations[0][0].text}\n",
    "\n",
    "    async def _acall(\n",
    "        self,\n",
    "        inputs: Dict[str, Any],\n",
    "        run_manager: Optional[AsyncCallbackManagerForChainRun] = None,\n",
    "    ) -> Dict[str, str]:\n",
    "        # Your custom chain logic goes here\n",
    "        # This is just an example that mimics LLMChain\n",
    "        prompt_value = self.prompt.format_prompt(**inputs)\n",
    "        \n",
    "        # Whenever you call a language model, or another chain, you should pass\n",
    "        # a callback manager to it. This allows the inner run to be tracked by\n",
    "        # any callbacks that are registered on the outer run.\n",
    "        # You can always obtain a callback manager for this by calling\n",
    "        # `run_manager.get_child()` as shown below.\n",
    "        response = await self.llm.agenerate_prompt(\n",
    "            [prompt_value],\n",
    "            callbacks=run_manager.get_child() if run_manager else None\n",
    "        )\n",
    "\n",
    "        # If you want to log something about this run, you can do so by calling\n",
    "        # methods on the `run_manager`, as shown below. This will trigger any\n",
    "        # callbacks that are registered for that event.\n",
    "        if run_manager:\n",
    "            await run_manager.on_text(\"Log something about this run\")\n",
    "        \n",
    "        return {self.output_key: response.generations[0][0].text}\n",
    "\n",
    "    @property\n",
    "    def _chain_type(self) -> str:\n",
    "        return \"my_custom_chain\"\n",
    "    \n",
    "    \n",
    "def not_compilable(solidity_code_str):\n",
    "    return \"Compilation Failed\" in compile_solidity(solidity_code_str)\n",
    "        \n",
    "    \n",
    "from pydantic import BaseModel, Field\n",
    "from solcx import install_solc, compile_source\n",
    "\n",
    "\n",
    "def compile_solidity(solidity_code_str):\n",
    "    \"\"\"\n",
    "    This function compiles Solidity files using a specific version of solc.\n",
    "    :return: Dict, the compiled contracts.\n",
    "    \"\"\"\n",
    "    solidity_code_str = solidity_code_str.strip(\"`\")\n",
    "    solc_version = \"0.8.9\"\n",
    "    # Install the specified version of solc\n",
    "    install_solc(solc_version)\n",
    "    try:\n",
    "        result = compile_source(solidity_code_str)\n",
    "        print(result)\n",
    "        return \"Compilation Successful. It is a valid solidity code.\"\n",
    "    except Exception as e:\n",
    "        print(f\"Couldn't compile {solidity_code_str}\\n{str(e)}\")\n",
    "        return f\"Compilation Failed. Either the code is invalid or current compiler({solc_version}) didnt match\"\n"
   ]
  },
  {
   "cell_type": "code",
   "execution_count": 6,
   "id": "ec74b2b3",
   "metadata": {},
   "outputs": [
    {
     "name": "stdout",
     "output_type": "stream",
     "text": [
      "\n",
      "\n",
      "\u001b[1m> Entering new MyCustomChain chain...\u001b[0m\n",
      "Couldn't compile \n",
      "function transfer(address recipient, uint amount) external returns (bool) {\n",
      "    balanceOf[msg.sender] -= amount;\n",
      "    balanceOf[recipient] += amount;\n",
      "    emit Transfer(msg.sender, recipient, amount);\n",
      "    return true;\n",
      "    }\n",
      "\n",
      "An error occurred during execution\n",
      "> command: `/Users/uan/anaconda3/envs/agents/bin/solc --combined-json abi,asm,ast,bin,bin-runtime,compact-format,devdoc,function-debug,function-debug-runtime,generated-sources,generated-sources-runtime,hashes,interface,metadata,opcodes,srcmap,srcmap-runtime,storage-layout,userdoc -`\n",
      "> return code: `1`\n",
      "> stdout:\n",
      "\n",
      "> stderr:\n",
      "Warning: SPDX license identifier not provided in source file. Before publishing, consider adding a comment containing \"SPDX-License-Identifier: <SPDX-License>\" to each source file. Use \"SPDX-License-Identifier: UNLICENSED\" for non-open-source code. Please see https://spdx.org for more information.\n",
      "--> <stdin>\n",
      "\n",
      "Error: Free functions cannot have visibility.\n",
      " --> <stdin>:2:1:\n",
      "  |\n",
      "2 | function transfer(address recipient, uint amount) external returns (bool) {\n",
      "  | ^ (Relevant source part starts here and spans across multiple lines).\n",
      "\n",
      "Warning: Source file does not specify required compiler version! Consider adding \"pragma solidity ^0.8.9;\"\n",
      "--> <stdin>\n",
      "\n",
      "Error: Undeclared identifier.\n",
      " --> <stdin>:3:5:\n",
      "  |\n",
      "3 |     balanceOf[msg.sender] -= amount;\n",
      "  |     ^^^^^^^^^\n",
      "\n",
      "Error: Undeclared identifier.\n",
      " --> <stdin>:4:5:\n",
      "  |\n",
      "4 |     balanceOf[recipient] += amount;\n",
      "  |     ^^^^^^^^^\n",
      "\n",
      "Error: Undeclared identifier. Did you mean \"transfer\"?\n",
      " --> <stdin>:5:10:\n",
      "  |\n",
      "5 |     emit Transfer(msg.sender, recipient, amount);\n",
      "  |          ^^^^^^^^\n",
      "\n",
      "\u001b[1m> Finished chain.\u001b[0m\n"
     ]
    },
    {
     "data": {
      "text/plain": [
       "'not compilable'"
      ]
     },
     "execution_count": 6,
     "metadata": {},
     "output_type": "execute_result"
    }
   ],
   "source": [
    "solidity_function = \"\"\"\n",
    "function transfer(address recipient, uint amount) external returns (bool) {\n",
    "    balanceOf[msg.sender] -= amount;\n",
    "    balanceOf[recipient] += amount;\n",
    "    emit Transfer(msg.sender, recipient, amount);\n",
    "    return true;\n",
    "    }\n",
    "\"\"\"\n",
    "\n",
    "from langchain.callbacks.stdout import StdOutCallbackHandler\n",
    "from langchain.chat_models.openai import ChatOpenAI\n",
    "from langchain.prompts.prompt import PromptTemplate\n",
    "\n",
    "\n",
    "chain = MyCustomChain(\n",
    "    prompt=PromptTemplate.from_template('write a test function to this solidity function {solidity_function}'),\n",
    "    llm=ChatOpenAI()\n",
    ")\n",
    "\n",
    "chain.run({'solidity_function': solidity_function}, callbacks=[StdOutCallbackHandler()])\n"
   ]
  },
  {
   "cell_type": "code",
   "execution_count": 10,
   "id": "a965d39b",
   "metadata": {},
   "outputs": [
    {
     "name": "stdout",
     "output_type": "stream",
     "text": [
      "\n",
      "\n",
      "\u001b[1m> Entering new MyCustomChain chain...\u001b[0m\n",
      "{'<stdin>:Gas': {'abi': [{'inputs': [], 'name': 'forever', 'outputs': [], 'stateMutability': 'nonpayable', 'type': 'function'}, {'inputs': [], 'name': 'i', 'outputs': [{'internalType': 'uint256', 'name': '', 'type': 'uint256'}], 'stateMutability': 'view', 'type': 'function'}], 'asm': {'.code': [{'begin': 57, 'end': 432, 'name': 'PUSH', 'source': 0, 'value': '80'}, {'begin': 57, 'end': 432, 'name': 'PUSH', 'source': 0, 'value': '40'}, {'begin': 57, 'end': 432, 'name': 'MSTORE', 'source': 0}, {'begin': 92, 'end': 93, 'name': 'PUSH', 'source': 0, 'value': '0'}, {'begin': 76, 'end': 93, 'name': 'DUP1', 'source': 0}, {'begin': 76, 'end': 93, 'name': 'SSTORE', 'source': 0}, {'begin': 57, 'end': 432, 'name': 'CALLVALUE', 'source': 0}, {'begin': 57, 'end': 432, 'name': 'DUP1', 'source': 0}, {'begin': 57, 'end': 432, 'name': 'ISZERO', 'source': 0}, {'begin': 57, 'end': 432, 'name': 'PUSH [tag]', 'source': 0, 'value': '1'}, {'begin': 57, 'end': 432, 'name': 'JUMPI', 'source': 0}, {'begin': 57, 'end': 432, 'name': 'PUSH', 'source': 0, 'value': '0'}, {'begin': 57, 'end': 432, 'name': 'DUP1', 'source': 0}, {'begin': 57, 'end': 432, 'name': 'REVERT', 'source': 0}, {'begin': 57, 'end': 432, 'name': 'tag', 'source': 0, 'value': '1'}, {'begin': 57, 'end': 432, 'name': 'JUMPDEST', 'source': 0}, {'begin': 57, 'end': 432, 'name': 'POP', 'source': 0}, {'begin': 57, 'end': 432, 'name': 'PUSH #[$]', 'source': 0, 'value': '0000000000000000000000000000000000000000000000000000000000000000'}, {'begin': 57, 'end': 432, 'name': 'DUP1', 'source': 0}, {'begin': 57, 'end': 432, 'name': 'PUSH [$]', 'source': 0, 'value': '0000000000000000000000000000000000000000000000000000000000000000'}, {'begin': 57, 'end': 432, 'name': 'PUSH', 'source': 0, 'value': '0'}, {'begin': 57, 'end': 432, 'name': 'CODECOPY', 'source': 0}, {'begin': 57, 'end': 432, 'name': 'PUSH', 'source': 0, 'value': '0'}, {'begin': 57, 'end': 432, 'name': 'RETURN', 'source': 0}], '.data': {'0': {'.auxdata': 'a2646970667358221220a8c8a43d8218f493b079275fd0f48db26b3535b73dcec2a953cfcddf6439840a64736f6c63430008090033', '.code': [{'begin': 57, 'end': 432, 'name': 'PUSH', 'source': 0, 'value': '80'}, {'begin': 57, 'end': 432, 'name': 'PUSH', 'source': 0, 'value': '40'}, {'begin': 57, 'end': 432, 'name': 'MSTORE', 'source': 0}, {'begin': 57, 'end': 432, 'name': 'CALLVALUE', 'source': 0}, {'begin': 57, 'end': 432, 'name': 'DUP1', 'source': 0}, {'begin': 57, 'end': 432, 'name': 'ISZERO', 'source': 0}, {'begin': 57, 'end': 432, 'name': 'PUSH [tag]', 'source': 0, 'value': '1'}, {'begin': 57, 'end': 432, 'name': 'JUMPI', 'source': 0}, {'begin': 57, 'end': 432, 'name': 'PUSH', 'source': 0, 'value': '0'}, {'begin': 57, 'end': 432, 'name': 'DUP1', 'source': 0}, {'begin': 57, 'end': 432, 'name': 'REVERT', 'source': 0}, {'begin': 57, 'end': 432, 'name': 'tag', 'source': 0, 'value': '1'}, {'begin': 57, 'end': 432, 'name': 'JUMPDEST', 'source': 0}, {'begin': 57, 'end': 432, 'name': 'POP', 'source': 0}, {'begin': 57, 'end': 432, 'name': 'PUSH', 'source': 0, 'value': '4'}, {'begin': 57, 'end': 432, 'name': 'CALLDATASIZE', 'source': 0}, {'begin': 57, 'end': 432, 'name': 'LT', 'source': 0}, {'begin': 57, 'end': 432, 'name': 'PUSH [tag]', 'source': 0, 'value': '2'}, {'begin': 57, 'end': 432, 'name': 'JUMPI', 'source': 0}, {'begin': 57, 'end': 432, 'name': 'PUSH', 'source': 0, 'value': '0'}, {'begin': 57, 'end': 432, 'name': 'CALLDATALOAD', 'source': 0}, {'begin': 57, 'end': 432, 'name': 'PUSH', 'source': 0, 'value': 'E0'}, {'begin': 57, 'end': 432, 'name': 'SHR', 'source': 0}, {'begin': 57, 'end': 432, 'name': 'DUP1', 'source': 0}, {'begin': 57, 'end': 432, 'name': 'PUSH', 'source': 0, 'value': '9FF9A603'}, {'begin': 57, 'end': 432, 'name': 'EQ', 'source': 0}, {'begin': 57, 'end': 432, 'name': 'PUSH [tag]', 'source': 0, 'value': '3'}, {'begin': 57, 'end': 432, 'name': 'JUMPI', 'source': 0}, {'begin': 57, 'end': 432, 'name': 'DUP1', 'source': 0}, {'begin': 57, 'end': 432, 'name': 'PUSH', 'source': 0, 'value': 'E5AA3D58'}, {'begin': 57, 'end': 432, 'name': 'EQ', 'source': 0}, {'begin': 57, 'end': 432, 'name': 'PUSH [tag]', 'source': 0, 'value': '4'}, {'begin': 57, 'end': 432, 'name': 'JUMPI', 'source': 0}, {'begin': 57, 'end': 432, 'name': 'tag', 'source': 0, 'value': '2'}, {'begin': 57, 'end': 432, 'name': 'JUMPDEST', 'source': 0}, {'begin': 57, 'end': 432, 'name': 'PUSH', 'source': 0, 'value': '0'}, {'begin': 57, 'end': 432, 'name': 'DUP1', 'source': 0}, {'begin': 57, 'end': 432, 'name': 'REVERT', 'source': 0}, {'begin': 246, 'end': 430, 'name': 'tag', 'source': 0, 'value': '3'}, {'begin': 246, 'end': 430, 'name': 'JUMPDEST', 'source': 0}, {'begin': 246, 'end': 430, 'name': 'PUSH [tag]', 'source': 0, 'value': '5'}, {'begin': 246, 'end': 430, 'name': 'PUSH [tag]', 'source': 0, 'value': '6'}, {'begin': 246, 'end': 430, 'name': 'JUMP', 'source': 0, 'value': '[in]'}, {'begin': 246, 'end': 430, 'name': 'tag', 'source': 0, 'value': '5'}, {'begin': 246, 'end': 430, 'name': 'JUMPDEST', 'source': 0}, {'begin': 246, 'end': 430, 'name': 'STOP', 'source': 0}, {'begin': 76, 'end': 93, 'name': 'tag', 'source': 0, 'value': '4'}, {'begin': 76, 'end': 93, 'name': 'JUMPDEST', 'source': 0}, {'begin': 76, 'end': 93, 'name': 'PUSH [tag]', 'source': 0, 'value': '7'}, {'begin': 76, 'end': 93, 'name': 'PUSH [tag]', 'source': 0, 'value': '8'}, {'begin': 76, 'end': 93, 'name': 'JUMP', 'source': 0, 'value': '[in]'}, {'begin': 76, 'end': 93, 'name': 'tag', 'source': 0, 'value': '7'}, {'begin': 76, 'end': 93, 'name': 'JUMPDEST', 'source': 0}, {'begin': 76, 'end': 93, 'name': 'PUSH', 'source': 0, 'value': '40'}, {'begin': 76, 'end': 93, 'name': 'MLOAD', 'source': 0}, {'begin': 76, 'end': 93, 'name': 'PUSH [tag]', 'source': 0, 'value': '9'}, {'begin': 76, 'end': 93, 'name': 'SWAP2', 'source': 0}, {'begin': 76, 'end': 93, 'name': 'SWAP1', 'source': 0}, {'begin': 76, 'end': 93, 'name': 'PUSH [tag]', 'source': 0, 'value': '10'}, {'begin': 76, 'end': 93, 'name': 'JUMP', 'source': 0, 'value': '[in]'}, {'begin': 76, 'end': 93, 'name': 'tag', 'source': 0, 'value': '9'}, {'begin': 76, 'end': 93, 'name': 'JUMPDEST', 'source': 0}, {'begin': 76, 'end': 93, 'name': 'PUSH', 'source': 0, 'value': '40'}, {'begin': 76, 'end': 93, 'name': 'MLOAD', 'source': 0}, {'begin': 76, 'end': 93, 'name': 'DUP1', 'source': 0}, {'begin': 76, 'end': 93, 'name': 'SWAP2', 'source': 0}, {'begin': 76, 'end': 93, 'name': 'SUB', 'source': 0}, {'begin': 76, 'end': 93, 'name': 'SWAP1', 'source': 0}, {'begin': 76, 'end': 93, 'name': 'RETURN', 'source': 0}, {'begin': 246, 'end': 430, 'name': 'tag', 'source': 0, 'value': '6'}, {'begin': 246, 'end': 430, 'name': 'JUMPDEST', 'source': 0}, {'begin': 380, 'end': 424, 'name': 'tag', 'source': 0, 'value': '12'}, {'begin': 380, 'end': 424, 'name': 'JUMPDEST', 'source': 0}, {'begin': 387, 'end': 391, 'name': 'PUSH', 'source': 0, 'value': '1'}, {'begin': 380, 'end': 424, 'name': 'ISZERO', 'source': 0}, {'begin': 380, 'end': 424, 'name': 'PUSH [tag]', 'source': 0, 'value': '13'}, {'begin': 380, 'end': 424, 'name': 'JUMPI', 'source': 0}, {'begin': 412, 'end': 413, 'name': 'PUSH', 'source': 0, 'value': '1'}, {'begin': 407, 'end': 408, 'name': 'PUSH', 'source': 0, 'value': '0'}, {'begin': 407, 'end': 408, 'name': 'DUP1', 'source': 0}, {'begin': 407, 'end': 413, 'name': 'DUP3', 'source': 0}, {'begin': 407, 'end': 413, 'name': 'DUP3', 'source': 0}, {'begin': 407, 'end': 413, 'name': 'SLOAD', 'source': 0}, {'begin': 407, 'end': 413, 'name': 'PUSH [tag]', 'source': 0, 'value': '14'}, {'begin': 407, 'end': 413, 'name': 'SWAP2', 'source': 0}, {'begin': 407, 'end': 413, 'name': 'SWAP1', 'source': 0}, {'begin': 407, 'end': 413, 'name': 'PUSH [tag]', 'source': 0, 'value': '15'}, {'begin': 407, 'end': 413, 'name': 'JUMP', 'source': 0, 'value': '[in]'}, {'begin': 407, 'end': 413, 'name': 'tag', 'source': 0, 'value': '14'}, {'begin': 407, 'end': 413, 'name': 'JUMPDEST', 'source': 0}, {'begin': 407, 'end': 413, 'name': 'SWAP3', 'source': 0}, {'begin': 407, 'end': 413, 'name': 'POP', 'source': 0}, {'begin': 407, 'end': 413, 'name': 'POP', 'source': 0}, {'begin': 407, 'end': 413, 'name': 'DUP2', 'source': 0}, {'begin': 407, 'end': 413, 'name': 'SWAP1', 'source': 0}, {'begin': 407, 'end': 413, 'name': 'SSTORE', 'source': 0}, {'begin': 407, 'end': 413, 'name': 'POP', 'source': 0}, {'begin': 380, 'end': 424, 'name': 'PUSH [tag]', 'source': 0, 'value': '12'}, {'begin': 380, 'end': 424, 'name': 'JUMP', 'source': 0}, {'begin': 380, 'end': 424, 'name': 'tag', 'source': 0, 'value': '13'}, {'begin': 380, 'end': 424, 'name': 'JUMPDEST', 'source': 0}, {'begin': 246, 'end': 430, 'name': 'JUMP', 'source': 0, 'value': '[out]'}, {'begin': 76, 'end': 93, 'name': 'tag', 'source': 0, 'value': '8'}, {'begin': 76, 'end': 93, 'name': 'JUMPDEST', 'source': 0}, {'begin': 76, 'end': 93, 'name': 'PUSH', 'source': 0, 'value': '0'}, {'begin': 76, 'end': 93, 'name': 'SLOAD', 'source': 0}, {'begin': 76, 'end': 93, 'name': 'DUP2', 'source': 0}, {'begin': 76, 'end': 93, 'name': 'JUMP', 'source': 0, 'value': '[out]'}, {'begin': 7, 'end': 84, 'name': 'tag', 'source': 1, 'value': '16'}, {'begin': 7, 'end': 84, 'name': 'JUMPDEST', 'source': 1}, {'begin': 44, 'end': 51, 'name': 'PUSH', 'source': 1, 'value': '0'}, {'begin': 73, 'end': 78, 'name': 'DUP2', 'source': 1}, {'begin': 62, 'end': 78, 'name': 'SWAP1', 'source': 1}, {'begin': 62, 'end': 78, 'name': 'POP', 'source': 1}, {'begin': 7, 'end': 84, 'name': 'SWAP2', 'source': 1}, {'begin': 7, 'end': 84, 'name': 'SWAP1', 'source': 1}, {'begin': 7, 'end': 84, 'name': 'POP', 'source': 1}, {'begin': 7, 'end': 84, 'name': 'JUMP', 'source': 1, 'value': '[out]'}, {'begin': 90, 'end': 208, 'name': 'tag', 'source': 1, 'value': '17'}, {'begin': 90, 'end': 208, 'name': 'JUMPDEST', 'source': 1}, {'begin': 177, 'end': 201, 'name': 'PUSH [tag]', 'source': 1, 'value': '22'}, {'begin': 195, 'end': 200, 'name': 'DUP2', 'source': 1}, {'begin': 177, 'end': 201, 'name': 'PUSH [tag]', 'source': 1, 'value': '16'}, {'begin': 177, 'end': 201, 'name': 'JUMP', 'source': 1, 'value': '[in]'}, {'begin': 177, 'end': 201, 'name': 'tag', 'source': 1, 'value': '22'}, {'begin': 177, 'end': 201, 'name': 'JUMPDEST', 'source': 1}, {'begin': 172, 'end': 175, 'name': 'DUP3', 'source': 1}, {'begin': 165, 'end': 202, 'name': 'MSTORE', 'source': 1}, {'begin': 90, 'end': 208, 'name': 'POP', 'source': 1}, {'begin': 90, 'end': 208, 'name': 'POP', 'source': 1}, {'begin': 90, 'end': 208, 'name': 'JUMP', 'source': 1, 'value': '[out]'}, {'begin': 214, 'end': 436, 'name': 'tag', 'source': 1, 'value': '10'}, {'begin': 214, 'end': 436, 'name': 'JUMPDEST', 'source': 1}, {'begin': 307, 'end': 311, 'name': 'PUSH', 'source': 1, 'value': '0'}, {'begin': 345, 'end': 347, 'name': 'PUSH', 'source': 1, 'value': '20'}, {'begin': 334, 'end': 343, 'name': 'DUP3', 'source': 1}, {'begin': 330, 'end': 348, 'name': 'ADD', 'source': 1}, {'begin': 322, 'end': 348, 'name': 'SWAP1', 'source': 1}, {'begin': 322, 'end': 348, 'name': 'POP', 'source': 1}, {'begin': 358, 'end': 429, 'name': 'PUSH [tag]', 'source': 1, 'value': '24'}, {'begin': 426, 'end': 427, 'name': 'PUSH', 'source': 1, 'value': '0'}, {'begin': 415, 'end': 424, 'name': 'DUP4', 'source': 1}, {'begin': 411, 'end': 428, 'name': 'ADD', 'source': 1}, {'begin': 402, 'end': 408, 'name': 'DUP5', 'source': 1}, {'begin': 358, 'end': 429, 'name': 'PUSH [tag]', 'source': 1, 'value': '17'}, {'begin': 358, 'end': 429, 'name': 'JUMP', 'source': 1, 'value': '[in]'}, {'begin': 358, 'end': 429, 'name': 'tag', 'source': 1, 'value': '24'}, {'begin': 358, 'end': 429, 'name': 'JUMPDEST', 'source': 1}, {'begin': 214, 'end': 436, 'name': 'SWAP3', 'source': 1}, {'begin': 214, 'end': 436, 'name': 'SWAP2', 'source': 1}, {'begin': 214, 'end': 436, 'name': 'POP', 'source': 1}, {'begin': 214, 'end': 436, 'name': 'POP', 'source': 1}, {'begin': 214, 'end': 436, 'name': 'JUMP', 'source': 1, 'value': '[out]'}, {'begin': 442, 'end': 622, 'name': 'tag', 'source': 1, 'value': '18'}, {'begin': 442, 'end': 622, 'name': 'JUMPDEST', 'source': 1}, {'begin': 490, 'end': 567, 'name': 'PUSH', 'source': 1, 'value': '4E487B7100000000000000000000000000000000000000000000000000000000'}, {'begin': 487, 'end': 488, 'name': 'PUSH', 'source': 1, 'value': '0'}, {'begin': 480, 'end': 568, 'name': 'MSTORE', 'source': 1}, {'begin': 587, 'end': 591, 'name': 'PUSH', 'source': 1, 'value': '11'}, {'begin': 584, 'end': 585, 'name': 'PUSH', 'source': 1, 'value': '4'}, {'begin': 577, 'end': 592, 'name': 'MSTORE', 'source': 1}, {'begin': 611, 'end': 615, 'name': 'PUSH', 'source': 1, 'value': '24'}, {'begin': 608, 'end': 609, 'name': 'PUSH', 'source': 1, 'value': '0'}, {'begin': 601, 'end': 616, 'name': 'REVERT', 'source': 1}, {'begin': 628, 'end': 933, 'name': 'tag', 'source': 1, 'value': '15'}, {'begin': 628, 'end': 933, 'name': 'JUMPDEST', 'source': 1}, {'begin': 668, 'end': 671, 'name': 'PUSH', 'source': 1, 'value': '0'}, {'begin': 687, 'end': 707, 'name': 'PUSH [tag]', 'source': 1, 'value': '27'}, {'begin': 705, 'end': 706, 'name': 'DUP3', 'source': 1}, {'begin': 687, 'end': 707, 'name': 'PUSH [tag]', 'source': 1, 'value': '16'}, {'begin': 687, 'end': 707, 'name': 'JUMP', 'source': 1, 'value': '[in]'}, {'begin': 687, 'end': 707, 'name': 'tag', 'source': 1, 'value': '27'}, {'begin': 687, 'end': 707, 'name': 'JUMPDEST', 'source': 1}, {'begin': 682, 'end': 707, 'name': 'SWAP2', 'source': 1}, {'begin': 682, 'end': 707, 'name': 'POP', 'source': 1}, {'begin': 721, 'end': 741, 'name': 'PUSH [tag]', 'source': 1, 'value': '28'}, {'begin': 739, 'end': 740, 'name': 'DUP4', 'source': 1}, {'begin': 721, 'end': 741, 'name': 'PUSH [tag]', 'source': 1, 'value': '16'}, {'begin': 721, 'end': 741, 'name': 'JUMP', 'source': 1, 'value': '[in]'}, {'begin': 721, 'end': 741, 'name': 'tag', 'source': 1, 'value': '28'}, {'begin': 721, 'end': 741, 'name': 'JUMPDEST', 'source': 1}, {'begin': 716, 'end': 741, 'name': 'SWAP3', 'source': 1}, {'begin': 716, 'end': 741, 'name': 'POP', 'source': 1}, {'begin': 875, 'end': 876, 'name': 'DUP3', 'source': 1}, {'begin': 807, 'end': 873, 'name': 'PUSH', 'source': 1, 'value': 'FFFFFFFFFFFFFFFFFFFFFFFFFFFFFFFFFFFFFFFFFFFFFFFFFFFFFFFFFFFFFFFF'}, {'begin': 803, 'end': 877, 'name': 'SUB', 'source': 1}, {'begin': 800, 'end': 801, 'name': 'DUP3', 'source': 1}, {'begin': 797, 'end': 878, 'name': 'GT', 'source': 1}, {'begin': 794, 'end': 901, 'name': 'ISZERO', 'source': 1}, {'begin': 794, 'end': 901, 'name': 'PUSH [tag]', 'source': 1, 'value': '29'}, {'begin': 794, 'end': 901, 'name': 'JUMPI', 'source': 1}, {'begin': 881, 'end': 899, 'name': 'PUSH [tag]', 'source': 1, 'value': '30'}, {'begin': 881, 'end': 899, 'name': 'PUSH [tag]', 'source': 1, 'value': '18'}, {'begin': 881, 'end': 899, 'name': 'JUMP', 'source': 1, 'value': '[in]'}, {'begin': 881, 'end': 899, 'name': 'tag', 'source': 1, 'value': '30'}, {'begin': 881, 'end': 899, 'name': 'JUMPDEST', 'source': 1}, {'begin': 794, 'end': 901, 'name': 'tag', 'source': 1, 'value': '29'}, {'begin': 794, 'end': 901, 'name': 'JUMPDEST', 'source': 1}, {'begin': 925, 'end': 926, 'name': 'DUP3', 'source': 1}, {'begin': 922, 'end': 923, 'name': 'DUP3', 'source': 1}, {'begin': 918, 'end': 927, 'name': 'ADD', 'source': 1}, {'begin': 911, 'end': 927, 'name': 'SWAP1', 'source': 1}, {'begin': 911, 'end': 927, 'name': 'POP', 'source': 1}, {'begin': 628, 'end': 933, 'name': 'SWAP3', 'source': 1}, {'begin': 628, 'end': 933, 'name': 'SWAP2', 'source': 1}, {'begin': 628, 'end': 933, 'name': 'POP', 'source': 1}, {'begin': 628, 'end': 933, 'name': 'POP', 'source': 1}, {'begin': 628, 'end': 933, 'name': 'JUMP', 'source': 1, 'value': '[out]'}]}}}, 'bin': '60806040526000805534801561001457600080fd5b50610180806100246000396000f3fe608060405234801561001057600080fd5b50600436106100365760003560e01c80639ff9a6031461003b578063e5aa3d5814610045575b600080fd5b610043610063565b005b61004d61008b565b60405161005a91906100aa565b60405180910390f35b5b60011561008957600160008082825461007d91906100f4565b92505081905550610064565b565b60005481565b6000819050919050565b6100a481610091565b82525050565b60006020820190506100bf600083018461009b565b92915050565b7f4e487b7100000000000000000000000000000000000000000000000000000000600052601160045260246000fd5b60006100ff82610091565b915061010a83610091565b9250827fffffffffffffffffffffffffffffffffffffffffffffffffffffffffffffffff0382111561013f5761013e6100c5565b5b82820190509291505056fea2646970667358221220a8c8a43d8218f493b079275fd0f48db26b3535b73dcec2a953cfcddf6439840a64736f6c63430008090033', 'bin-runtime': '608060405234801561001057600080fd5b50600436106100365760003560e01c80639ff9a6031461003b578063e5aa3d5814610045575b600080fd5b610043610063565b005b61004d61008b565b60405161005a91906100aa565b60405180910390f35b5b60011561008957600160008082825461007d91906100f4565b92505081905550610064565b565b60005481565b6000819050919050565b6100a481610091565b82525050565b60006020820190506100bf600083018461009b565b92915050565b7f4e487b7100000000000000000000000000000000000000000000000000000000600052601160045260246000fd5b60006100ff82610091565b915061010a83610091565b9250827fffffffffffffffffffffffffffffffffffffffffffffffffffffffffffffffff0382111561013f5761013e6100c5565b5b82820190509291505056fea2646970667358221220a8c8a43d8218f493b079275fd0f48db26b3535b73dcec2a953cfcddf6439840a64736f6c63430008090033', 'devdoc': {'kind': 'dev', 'methods': {}, 'version': 1}, 'function-debug': {}, 'function-debug-runtime': {'@forever_15': {'entryPoint': 99, 'id': 15, 'parameterSlots': 0, 'returnSlots': 0}, '@i_4': {'entryPoint': 139, 'id': 4, 'parameterSlots': 0, 'returnSlots': 0}, 'abi_encode_t_uint256_to_t_uint256_fromStack': {'entryPoint': 155, 'parameterSlots': 2, 'returnSlots': 0}, 'abi_encode_tuple_t_uint256__to_t_uint256__fromStack_reversed': {'entryPoint': 170, 'parameterSlots': 2, 'returnSlots': 1}, 'checked_add_t_uint256': {'entryPoint': 244, 'parameterSlots': 2, 'returnSlots': 1}, 'cleanup_t_uint256': {'entryPoint': 145, 'parameterSlots': 1, 'returnSlots': 1}, 'panic_error_0x11': {'entryPoint': 197, 'parameterSlots': 0, 'returnSlots': 0}}, 'generated-sources': [], 'generated-sources-runtime': [{'ast': {'nodeType': 'YulBlock', 'src': '0:936:1', 'statements': [{'body': {'nodeType': 'YulBlock', 'src': '52:32:1', 'statements': [{'nodeType': 'YulAssignment', 'src': '62:16:1', 'value': {'name': 'value', 'nodeType': 'YulIdentifier', 'src': '73:5:1'}, 'variableNames': [{'name': 'cleaned', 'nodeType': 'YulIdentifier', 'src': '62:7:1'}]}]}, 'name': 'cleanup_t_uint256', 'nodeType': 'YulFunctionDefinition', 'parameters': [{'name': 'value', 'nodeType': 'YulTypedName', 'src': '34:5:1', 'type': ''}], 'returnVariables': [{'name': 'cleaned', 'nodeType': 'YulTypedName', 'src': '44:7:1', 'type': ''}], 'src': '7:77:1'}, {'body': {'nodeType': 'YulBlock', 'src': '155:53:1', 'statements': [{'expression': {'arguments': [{'name': 'pos', 'nodeType': 'YulIdentifier', 'src': '172:3:1'}, {'arguments': [{'name': 'value', 'nodeType': 'YulIdentifier', 'src': '195:5:1'}], 'functionName': {'name': 'cleanup_t_uint256', 'nodeType': 'YulIdentifier', 'src': '177:17:1'}, 'nodeType': 'YulFunctionCall', 'src': '177:24:1'}], 'functionName': {'name': 'mstore', 'nodeType': 'YulIdentifier', 'src': '165:6:1'}, 'nodeType': 'YulFunctionCall', 'src': '165:37:1'}, 'nodeType': 'YulExpressionStatement', 'src': '165:37:1'}]}, 'name': 'abi_encode_t_uint256_to_t_uint256_fromStack', 'nodeType': 'YulFunctionDefinition', 'parameters': [{'name': 'value', 'nodeType': 'YulTypedName', 'src': '143:5:1', 'type': ''}, {'name': 'pos', 'nodeType': 'YulTypedName', 'src': '150:3:1', 'type': ''}], 'src': '90:118:1'}, {'body': {'nodeType': 'YulBlock', 'src': '312:124:1', 'statements': [{'nodeType': 'YulAssignment', 'src': '322:26:1', 'value': {'arguments': [{'name': 'headStart', 'nodeType': 'YulIdentifier', 'src': '334:9:1'}, {'kind': 'number', 'nodeType': 'YulLiteral', 'src': '345:2:1', 'type': '', 'value': '32'}], 'functionName': {'name': 'add', 'nodeType': 'YulIdentifier', 'src': '330:3:1'}, 'nodeType': 'YulFunctionCall', 'src': '330:18:1'}, 'variableNames': [{'name': 'tail', 'nodeType': 'YulIdentifier', 'src': '322:4:1'}]}, {'expression': {'arguments': [{'name': 'value0', 'nodeType': 'YulIdentifier', 'src': '402:6:1'}, {'arguments': [{'name': 'headStart', 'nodeType': 'YulIdentifier', 'src': '415:9:1'}, {'kind': 'number', 'nodeType': 'YulLiteral', 'src': '426:1:1', 'type': '', 'value': '0'}], 'functionName': {'name': 'add', 'nodeType': 'YulIdentifier', 'src': '411:3:1'}, 'nodeType': 'YulFunctionCall', 'src': '411:17:1'}], 'functionName': {'name': 'abi_encode_t_uint256_to_t_uint256_fromStack', 'nodeType': 'YulIdentifier', 'src': '358:43:1'}, 'nodeType': 'YulFunctionCall', 'src': '358:71:1'}, 'nodeType': 'YulExpressionStatement', 'src': '358:71:1'}]}, 'name': 'abi_encode_tuple_t_uint256__to_t_uint256__fromStack_reversed', 'nodeType': 'YulFunctionDefinition', 'parameters': [{'name': 'headStart', 'nodeType': 'YulTypedName', 'src': '284:9:1', 'type': ''}, {'name': 'value0', 'nodeType': 'YulTypedName', 'src': '296:6:1', 'type': ''}], 'returnVariables': [{'name': 'tail', 'nodeType': 'YulTypedName', 'src': '307:4:1', 'type': ''}], 'src': '214:222:1'}, {'body': {'nodeType': 'YulBlock', 'src': '470:152:1', 'statements': [{'expression': {'arguments': [{'kind': 'number', 'nodeType': 'YulLiteral', 'src': '487:1:1', 'type': '', 'value': '0'}, {'kind': 'number', 'nodeType': 'YulLiteral', 'src': '490:77:1', 'type': '', 'value': '35408467139433450592217433187231851964531694900788300625387963629091585785856'}], 'functionName': {'name': 'mstore', 'nodeType': 'YulIdentifier', 'src': '480:6:1'}, 'nodeType': 'YulFunctionCall', 'src': '480:88:1'}, 'nodeType': 'YulExpressionStatement', 'src': '480:88:1'}, {'expression': {'arguments': [{'kind': 'number', 'nodeType': 'YulLiteral', 'src': '584:1:1', 'type': '', 'value': '4'}, {'kind': 'number', 'nodeType': 'YulLiteral', 'src': '587:4:1', 'type': '', 'value': '0x11'}], 'functionName': {'name': 'mstore', 'nodeType': 'YulIdentifier', 'src': '577:6:1'}, 'nodeType': 'YulFunctionCall', 'src': '577:15:1'}, 'nodeType': 'YulExpressionStatement', 'src': '577:15:1'}, {'expression': {'arguments': [{'kind': 'number', 'nodeType': 'YulLiteral', 'src': '608:1:1', 'type': '', 'value': '0'}, {'kind': 'number', 'nodeType': 'YulLiteral', 'src': '611:4:1', 'type': '', 'value': '0x24'}], 'functionName': {'name': 'revert', 'nodeType': 'YulIdentifier', 'src': '601:6:1'}, 'nodeType': 'YulFunctionCall', 'src': '601:15:1'}, 'nodeType': 'YulExpressionStatement', 'src': '601:15:1'}]}, 'name': 'panic_error_0x11', 'nodeType': 'YulFunctionDefinition', 'src': '442:180:1'}, {'body': {'nodeType': 'YulBlock', 'src': '672:261:1', 'statements': [{'nodeType': 'YulAssignment', 'src': '682:25:1', 'value': {'arguments': [{'name': 'x', 'nodeType': 'YulIdentifier', 'src': '705:1:1'}], 'functionName': {'name': 'cleanup_t_uint256', 'nodeType': 'YulIdentifier', 'src': '687:17:1'}, 'nodeType': 'YulFunctionCall', 'src': '687:20:1'}, 'variableNames': [{'name': 'x', 'nodeType': 'YulIdentifier', 'src': '682:1:1'}]}, {'nodeType': 'YulAssignment', 'src': '716:25:1', 'value': {'arguments': [{'name': 'y', 'nodeType': 'YulIdentifier', 'src': '739:1:1'}], 'functionName': {'name': 'cleanup_t_uint256', 'nodeType': 'YulIdentifier', 'src': '721:17:1'}, 'nodeType': 'YulFunctionCall', 'src': '721:20:1'}, 'variableNames': [{'name': 'y', 'nodeType': 'YulIdentifier', 'src': '716:1:1'}]}, {'body': {'nodeType': 'YulBlock', 'src': '879:22:1', 'statements': [{'expression': {'arguments': [], 'functionName': {'name': 'panic_error_0x11', 'nodeType': 'YulIdentifier', 'src': '881:16:1'}, 'nodeType': 'YulFunctionCall', 'src': '881:18:1'}, 'nodeType': 'YulExpressionStatement', 'src': '881:18:1'}]}, 'condition': {'arguments': [{'name': 'x', 'nodeType': 'YulIdentifier', 'src': '800:1:1'}, {'arguments': [{'kind': 'number', 'nodeType': 'YulLiteral', 'src': '807:66:1', 'type': '', 'value': '0xffffffffffffffffffffffffffffffffffffffffffffffffffffffffffffffff'}, {'name': 'y', 'nodeType': 'YulIdentifier', 'src': '875:1:1'}], 'functionName': {'name': 'sub', 'nodeType': 'YulIdentifier', 'src': '803:3:1'}, 'nodeType': 'YulFunctionCall', 'src': '803:74:1'}], 'functionName': {'name': 'gt', 'nodeType': 'YulIdentifier', 'src': '797:2:1'}, 'nodeType': 'YulFunctionCall', 'src': '797:81:1'}, 'nodeType': 'YulIf', 'src': '794:107:1'}, {'nodeType': 'YulAssignment', 'src': '911:16:1', 'value': {'arguments': [{'name': 'x', 'nodeType': 'YulIdentifier', 'src': '922:1:1'}, {'name': 'y', 'nodeType': 'YulIdentifier', 'src': '925:1:1'}], 'functionName': {'name': 'add', 'nodeType': 'YulIdentifier', 'src': '918:3:1'}, 'nodeType': 'YulFunctionCall', 'src': '918:9:1'}, 'variableNames': [{'name': 'sum', 'nodeType': 'YulIdentifier', 'src': '911:3:1'}]}]}, 'name': 'checked_add_t_uint256', 'nodeType': 'YulFunctionDefinition', 'parameters': [{'name': 'x', 'nodeType': 'YulTypedName', 'src': '659:1:1', 'type': ''}, {'name': 'y', 'nodeType': 'YulTypedName', 'src': '662:1:1', 'type': ''}], 'returnVariables': [{'name': 'sum', 'nodeType': 'YulTypedName', 'src': '668:3:1', 'type': ''}], 'src': '628:305:1'}]}, 'contents': '{\\n\\n    function cleanup_t_uint256(value) -> cleaned {\\n        cleaned := value\\n    }\\n\\n    function abi_encode_t_uint256_to_t_uint256_fromStack(value, pos) {\\n        mstore(pos, cleanup_t_uint256(value))\\n    }\\n\\n    function abi_encode_tuple_t_uint256__to_t_uint256__fromStack_reversed(headStart , value0) -> tail {\\n        tail := add(headStart, 32)\\n\\n        abi_encode_t_uint256_to_t_uint256_fromStack(value0,  add(headStart, 0))\\n\\n    }\\n\\n    function panic_error_0x11() {\\n        mstore(0, 35408467139433450592217433187231851964531694900788300625387963629091585785856)\\n        mstore(4, 0x11)\\n        revert(0, 0x24)\\n    }\\n\\n    function checked_add_t_uint256(x, y) -> sum {\\n        x := cleanup_t_uint256(x)\\n        y := cleanup_t_uint256(y)\\n\\n        // overflow, if x > (maxValue - y)\\n        if gt(x, sub(0xffffffffffffffffffffffffffffffffffffffffffffffffffffffffffffffff, y)) { panic_error_0x11() }\\n\\n        sum := add(x, y)\\n    }\\n\\n}\\n', 'id': 1, 'language': 'Yul', 'name': '#utility.yul'}], 'hashes': {'forever()': '9ff9a603', 'i()': 'e5aa3d58'}, 'metadata': '{\"compiler\":{\"version\":\"0.8.9+commit.e5eed63a\"},\"language\":\"Solidity\",\"output\":{\"abi\":[{\"inputs\":[],\"name\":\"forever\",\"outputs\":[],\"stateMutability\":\"nonpayable\",\"type\":\"function\"},{\"inputs\":[],\"name\":\"i\",\"outputs\":[{\"internalType\":\"uint256\",\"name\":\"\",\"type\":\"uint256\"}],\"stateMutability\":\"view\",\"type\":\"function\"}],\"devdoc\":{\"kind\":\"dev\",\"methods\":{},\"version\":1},\"userdoc\":{\"kind\":\"user\",\"methods\":{},\"version\":1}},\"settings\":{\"compilationTarget\":{\"<stdin>\":\"Gas\"},\"evmVersion\":\"london\",\"libraries\":{},\"metadata\":{\"bytecodeHash\":\"ipfs\"},\"optimizer\":{\"enabled\":false,\"runs\":200},\"remappings\":[]},\"sources\":{\"<stdin>\":{\"keccak256\":\"0x2fbefc5b0f997d03f063f5aee6feaec5702a4ccc53580f0a414545311dca478d\",\"license\":\"MIT\",\"urls\":[\"bzz-raw://f8bcf7a1951a9f5f80152e663ac4354a4b4fe4e1ab5c9163d290da6d35460ea0\",\"dweb:/ipfs/QmNTM8qR5wXuoh9vfpVfFkuEPgom7mwMXqKmT9TU9DTKxr\"]}},\"version\":1}', 'opcodes': 'PUSH1 0x80 PUSH1 0x40 MSTORE PUSH1 0x0 DUP1 SSTORE CALLVALUE DUP1 ISZERO PUSH2 0x14 JUMPI PUSH1 0x0 DUP1 REVERT JUMPDEST POP PUSH2 0x180 DUP1 PUSH2 0x24 PUSH1 0x0 CODECOPY PUSH1 0x0 RETURN INVALID PUSH1 0x80 PUSH1 0x40 MSTORE CALLVALUE DUP1 ISZERO PUSH2 0x10 JUMPI PUSH1 0x0 DUP1 REVERT JUMPDEST POP PUSH1 0x4 CALLDATASIZE LT PUSH2 0x36 JUMPI PUSH1 0x0 CALLDATALOAD PUSH1 0xE0 SHR DUP1 PUSH4 0x9FF9A603 EQ PUSH2 0x3B JUMPI DUP1 PUSH4 0xE5AA3D58 EQ PUSH2 0x45 JUMPI JUMPDEST PUSH1 0x0 DUP1 REVERT JUMPDEST PUSH2 0x43 PUSH2 0x63 JUMP JUMPDEST STOP JUMPDEST PUSH2 0x4D PUSH2 0x8B JUMP JUMPDEST PUSH1 0x40 MLOAD PUSH2 0x5A SWAP2 SWAP1 PUSH2 0xAA JUMP JUMPDEST PUSH1 0x40 MLOAD DUP1 SWAP2 SUB SWAP1 RETURN JUMPDEST JUMPDEST PUSH1 0x1 ISZERO PUSH2 0x89 JUMPI PUSH1 0x1 PUSH1 0x0 DUP1 DUP3 DUP3 SLOAD PUSH2 0x7D SWAP2 SWAP1 PUSH2 0xF4 JUMP JUMPDEST SWAP3 POP POP DUP2 SWAP1 SSTORE POP PUSH2 0x64 JUMP JUMPDEST JUMP JUMPDEST PUSH1 0x0 SLOAD DUP2 JUMP JUMPDEST PUSH1 0x0 DUP2 SWAP1 POP SWAP2 SWAP1 POP JUMP JUMPDEST PUSH2 0xA4 DUP2 PUSH2 0x91 JUMP JUMPDEST DUP3 MSTORE POP POP JUMP JUMPDEST PUSH1 0x0 PUSH1 0x20 DUP3 ADD SWAP1 POP PUSH2 0xBF PUSH1 0x0 DUP4 ADD DUP5 PUSH2 0x9B JUMP JUMPDEST SWAP3 SWAP2 POP POP JUMP JUMPDEST PUSH32 0x4E487B7100000000000000000000000000000000000000000000000000000000 PUSH1 0x0 MSTORE PUSH1 0x11 PUSH1 0x4 MSTORE PUSH1 0x24 PUSH1 0x0 REVERT JUMPDEST PUSH1 0x0 PUSH2 0xFF DUP3 PUSH2 0x91 JUMP JUMPDEST SWAP2 POP PUSH2 0x10A DUP4 PUSH2 0x91 JUMP JUMPDEST SWAP3 POP DUP3 PUSH32 0xFFFFFFFFFFFFFFFFFFFFFFFFFFFFFFFFFFFFFFFFFFFFFFFFFFFFFFFFFFFFFFFF SUB DUP3 GT ISZERO PUSH2 0x13F JUMPI PUSH2 0x13E PUSH2 0xC5 JUMP JUMPDEST JUMPDEST DUP3 DUP3 ADD SWAP1 POP SWAP3 SWAP2 POP POP JUMP INVALID LOG2 PUSH5 0x6970667358 0x22 SLT KECCAK256 0xA8 0xC8 LOG4 RETURNDATASIZE DUP3 XOR DELEGATECALL SWAP4 0xB0 PUSH26 0x275FD0F48DB26B3535B73DCEC2A953CFCDDF6439840A64736F6C PUSH4 0x43000809 STOP CALLER ', 'srcmap': '57:375:0:-:0;;;92:1;76:17;;57:375;;;;;;;;;;;;;;;;', 'srcmap-runtime': '57:375:0:-:0;;;;;;;;;;;;;;;;;;;;;;;;;;;;;;;;;;;;246:184;;;:::i;:::-;;76:17;;;:::i;:::-;;;;;;;:::i;:::-;;;;;;;;246:184;380:44;387:4;380:44;;;412:1;407;;:6;;;;;;;:::i;:::-;;;;;;;;380:44;;;246:184::o;76:17::-;;;;:::o;7:77:1:-;44:7;73:5;62:16;;7:77;;;:::o;90:118::-;177:24;195:5;177:24;:::i;:::-;172:3;165:37;90:118;;:::o;214:222::-;307:4;345:2;334:9;330:18;322:26;;358:71;426:1;415:9;411:17;402:6;358:71;:::i;:::-;214:222;;;;:::o;442:180::-;490:77;487:1;480:88;587:4;584:1;577:15;611:4;608:1;601:15;628:305;668:3;687:20;705:1;687:20;:::i;:::-;682:25;;721:20;739:1;721:20;:::i;:::-;716:25;;875:1;807:66;803:74;800:1;797:81;794:107;;;881:18;;:::i;:::-;794:107;925:1;922;918:9;911:16;;628:305;;;;:::o', 'storage-layout': {'storage': [{'astId': 4, 'contract': '<stdin>:Gas', 'label': 'i', 'offset': 0, 'slot': '0', 'type': 't_uint256'}], 'types': {'t_uint256': {'encoding': 'inplace', 'label': 'uint256', 'numberOfBytes': '32'}}}, 'userdoc': {'kind': 'user', 'methods': {}, 'version': 1}, 'ast': {'absolutePath': '<stdin>', 'exportedSymbols': {'Gas': [16]}, 'id': 17, 'license': 'MIT', 'nodeType': 'SourceUnit', 'nodes': [{'id': 1, 'literals': ['solidity', '^', '0.8', '.9'], 'nodeType': 'PragmaDirective', 'src': '32:23:0'}, {'abstract': False, 'baseContracts': [], 'canonicalName': 'Gas', 'contractDependencies': [], 'contractKind': 'contract', 'fullyImplemented': True, 'id': 16, 'linearizedBaseContracts': [16], 'name': 'Gas', 'nameLocation': '66:3:0', 'nodeType': 'ContractDefinition', 'nodes': [{'constant': False, 'functionSelector': 'e5aa3d58', 'id': 4, 'mutability': 'mutable', 'name': 'i', 'nameLocation': '88:1:0', 'nodeType': 'VariableDeclaration', 'scope': 16, 'src': '76:17:0', 'stateVariable': True, 'storageLocation': 'default', 'typeDescriptions': {'typeIdentifier': 't_uint256', 'typeString': 'uint256'}, 'typeName': {'id': 2, 'name': 'uint', 'nodeType': 'ElementaryTypeName', 'src': '76:4:0', 'typeDescriptions': {'typeIdentifier': 't_uint256', 'typeString': 'uint256'}}, 'value': {'hexValue': '30', 'id': 3, 'isConstant': False, 'isLValue': False, 'isPure': True, 'kind': 'number', 'lValueRequested': False, 'nodeType': 'Literal', 'src': '92:1:0', 'typeDescriptions': {'typeIdentifier': 't_rational_0_by_1', 'typeString': 'int_const 0'}, 'value': '0'}, 'visibility': 'public'}, {'body': {'id': 14, 'nodeType': 'Block', 'src': '272:158:0', 'statements': [{'body': {'id': 12, 'nodeType': 'Block', 'src': '393:31:0', 'statements': [{'expression': {'id': 10, 'isConstant': False, 'isLValue': False, 'isPure': False, 'lValueRequested': False, 'leftHandSide': {'id': 8, 'name': 'i', 'nodeType': 'Identifier', 'overloadedDeclarations': [], 'referencedDeclaration': 4, 'src': '407:1:0', 'typeDescriptions': {'typeIdentifier': 't_uint256', 'typeString': 'uint256'}}, 'nodeType': 'Assignment', 'operator': '+=', 'rightHandSide': {'hexValue': '31', 'id': 9, 'isConstant': False, 'isLValue': False, 'isPure': True, 'kind': 'number', 'lValueRequested': False, 'nodeType': 'Literal', 'src': '412:1:0', 'typeDescriptions': {'typeIdentifier': 't_rational_1_by_1', 'typeString': 'int_const 1'}, 'value': '1'}, 'src': '407:6:0', 'typeDescriptions': {'typeIdentifier': 't_uint256', 'typeString': 'uint256'}}, 'id': 11, 'nodeType': 'ExpressionStatement', 'src': '407:6:0'}]}, 'condition': {'hexValue': '74727565', 'id': 7, 'isConstant': False, 'isLValue': False, 'isPure': True, 'kind': 'bool', 'lValueRequested': False, 'nodeType': 'Literal', 'src': '387:4:0', 'typeDescriptions': {'typeIdentifier': 't_bool', 'typeString': 'bool'}, 'value': 'true'}, 'id': 13, 'nodeType': 'WhileStatement', 'src': '380:44:0'}]}, 'functionSelector': '9ff9a603', 'id': 15, 'implemented': True, 'kind': 'function', 'modifiers': [], 'name': 'forever', 'nameLocation': '255:7:0', 'nodeType': 'FunctionDefinition', 'parameters': {'id': 5, 'nodeType': 'ParameterList', 'parameters': [], 'src': '262:2:0'}, 'returnParameters': {'id': 6, 'nodeType': 'ParameterList', 'parameters': [], 'src': '272:0:0'}, 'scope': 16, 'src': '246:184:0', 'stateMutability': 'nonpayable', 'virtual': False, 'visibility': 'public'}], 'scope': 17, 'src': '57:375:0', 'usedErrors': []}], 'src': '32:402:0'}}}\n"
     ]
    },
    {
     "name": "stderr",
     "output_type": "stream",
     "text": [
      "Retrying langchain.chat_models.openai.ChatOpenAI.completion_with_retry.<locals>._completion_with_retry in 1.0 seconds as it raised RateLimitError: That model is currently overloaded with other requests. You can retry your request, or contact us through our help center at help.openai.com if the error persists. (Please include the request ID 0176da6cf1c15a8bcd83dd90a77cf6f6 in your message.).\n"
     ]
    },
    {
     "name": "stdout",
     "output_type": "stream",
     "text": [
      "Log something about this run\n",
      "\u001b[1m> Finished chain.\u001b[0m\n"
     ]
    },
    {
     "data": {
      "text/plain": [
       "'// SPDX-License-Identifier: MIT\\npragma solidity ^0.8.9;\\n\\nimport \"truffle/Assert.sol\";\\nimport \"../contracts/Gas.sol\";\\n\\ncontract TestGas {\\n    Gas gasContract;\\n\\n    function beforeEach() public {\\n        gasContract = new Gas();\\n    }\\n\\n    function testForever() public {\\n        bool success;\\n\\n        try gasContract.forever() {\\n            success = true;\\n        } catch {\\n            success = false;\\n        }\\n\\n        Assert.isFalse(success, \"Transaction should fail and revert\");\\n        Assert.equal(gasContract.i(), 0, \"State changes should be undone\");\\n    }\\n}'"
      ]
     },
     "execution_count": 10,
     "metadata": {},
     "output_type": "execute_result"
    }
   ],
   "source": [
    "# ops forgot adding pragma\n",
    "# the reason why I don't use the latest 0.8.20 for this example: https://stackoverflow.com/questions/70505253/solcx-compile-source-is-throwing-error-error-occurred-during-execution\n",
    "solidity_function = \"\"\"// SPDX-License-Identifier: MIT\n",
    "pragma solidity ^0.8.9;\n",
    "\n",
    "contract Gas {\n",
    "    uint public i = 0;\n",
    "\n",
    "    // Using up all of the gas that you send causes your transaction to fail.\n",
    "    // State changes are undone.\n",
    "    // Gas spent are not refunded.\n",
    "    function forever() public {\n",
    "        // Here we run a loop until all of the gas are spent\n",
    "        // and the transaction fails\n",
    "        while (true) {\n",
    "            i += 1;\n",
    "        }\n",
    "    }\n",
    "}\n",
    "\"\"\"\n",
    "chain.run({'solidity_function': solidity_function}, callbacks=[StdOutCallbackHandler()])"
   ]
  },
  {
   "cell_type": "code",
   "execution_count": null,
   "id": "ccbc0bf3",
   "metadata": {},
   "outputs": [],
   "source": []
  }
 ],
 "metadata": {
  "kernelspec": {
   "display_name": "Python 3 (ipykernel)",
   "language": "python",
   "name": "python3"
  },
  "language_info": {
   "codemirror_mode": {
    "name": "ipython",
    "version": 3
   },
   "file_extension": ".py",
   "mimetype": "text/x-python",
   "name": "python",
   "nbconvert_exporter": "python",
   "pygments_lexer": "ipython3",
   "version": "3.10.9"
  }
 },
 "nbformat": 4,
 "nbformat_minor": 5
}
