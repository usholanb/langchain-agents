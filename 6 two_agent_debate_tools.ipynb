{
 "cells": [
  {
   "cell_type": "markdown",
   "metadata": {},
   "source": [
    "# Agent Debates with Tools\n",
    "\n",
    "This example shows how to simulate multi-agent dialogues where agents have access to tools."
   ]
  },
  {
   "cell_type": "markdown",
   "metadata": {},
   "source": [
    "## Import LangChain related modules "
   ]
  },
  {
   "cell_type": "code",
   "execution_count": 1,
   "metadata": {},
   "outputs": [],
   "source": [
    "from typing import List, Dict, Callable\n",
    "from langchain.chains import ConversationChain\n",
    "from langchain.chat_models import ChatOpenAI\n",
    "from langchain.llms import OpenAI\n",
    "from langchain.memory import ConversationBufferMemory\n",
    "from langchain.prompts.prompt import PromptTemplate\n",
    "from langchain.schema import (\n",
    "    AIMessage,\n",
    "    HumanMessage,\n",
    "    SystemMessage,\n",
    "    BaseMessage,\n",
    ")\n",
    "import os\n",
    "import json\n",
    "import re\n",
    "from langchain import Anthropic\n",
    "from langchain.chat_models import ChatAnthropic\n",
    "from langchain.prompts.chat import (\n",
    "    SystemMessagePromptTemplate,\n",
    "    HumanMessagePromptTemplate,\n",
    ")\n",
    "from langchain.schema import (\n",
    "    HumanMessage,\n",
    ")\n",
    "from typing import List\n",
    "from langchain.agents import Tool, initialize_agent, AgentType\n",
    "from langchain.agents import tool\n",
    "from pydantic import BaseModel, Field\n",
    "from solcx import install_solc, compile_source\n",
    "from langchain.chat_models import ChatOpenAI\n",
    "from langchain.schema import SystemMessage, BaseMessage, HumanMessage, AIMessage\n",
    "from dotenv import load_dotenv\n",
    "from typing import List\n",
    "from langchain.agents import Tool, initialize_agent, AgentType\n",
    "from langchain.chat_models import ChatOpenAI\n",
    "from langchain.schema import SystemMessage, BaseMessage, HumanMessage, AIMessage\n",
    "from utils.tools import compile_solidity, SolidityCompilerInput\n",
    "\n",
    "\n",
    "\n",
    "load_dotenv()\n",
    "\n",
    "\n",
    "def get_secret(name):\n",
    "    if os.environ[name]:\n",
    "        return os.environ[name]\n",
    "    return os.getenv(name)\n",
    "\n",
    "\n",
    "Anthropic.anthropic_api_key = get_secret('ANTHROPIC_API_KEY')\n",
    "\n",
    "with open('data/e2e_suggest_test_from_tests_example.json', 'r') as f_in:\n",
    "    example = json.load(f_in)"
   ]
  },
  {
   "cell_type": "markdown",
   "metadata": {},
   "source": [
    "## Import modules related to tools"
   ]
  },
  {
   "cell_type": "code",
   "execution_count": 2,
   "metadata": {},
   "outputs": [],
   "source": [
    "from langchain.agents import Tool\n",
    "from langchain.agents import initialize_agent\n",
    "from langchain.agents import AgentType\n",
    "from langchain.agents import load_tools"
   ]
  },
  {
   "cell_type": "markdown",
   "metadata": {},
   "source": [
    "## `DialogueAgent` and `DialogueSimulator` classes\n",
    "We will use the same `DialogueAgent` and `DialogueSimulator` classes defined in [Multi-Player Authoritarian Speaker Selection](https://python.langchain.com/en/latest/use_cases/agent_simulations/multiagent_authoritarian.html)."
   ]
  },
  {
   "cell_type": "code",
   "execution_count": 3,
   "metadata": {},
   "outputs": [],
   "source": [
    "class DialogueAgent:\n",
    "    def __init__(\n",
    "        self,\n",
    "        name: str,\n",
    "        system_message: SystemMessage,\n",
    "        model: ChatOpenAI,\n",
    "    ) -> None:\n",
    "        self.name = name\n",
    "        self.system_message = system_message\n",
    "        self.model = model\n",
    "        self.prefix = f\"{self.name}: \"\n",
    "        self.reset()\n",
    "        \n",
    "    def reset(self):\n",
    "        self.message_history = [\"Here is the conversation so far.\"]\n",
    "\n",
    "    def send(self) -> str:\n",
    "        \"\"\"\n",
    "        Applies the chatmodel to the message history\n",
    "        and returns the message string\n",
    "        \"\"\"\n",
    "        message = self.model(\n",
    "            [\n",
    "                self.system_message,\n",
    "                HumanMessage(content=\"\\n\".join(self.message_history + [self.prefix])),\n",
    "            ]\n",
    "        )\n",
    "        return message.content\n",
    "\n",
    "    def receive(self, name: str, message: str) -> None:\n",
    "        \"\"\"\n",
    "        Concatenates {message} spoken by {name} into message history\n",
    "        \"\"\"\n",
    "        self.message_history.append(f\"{name}: {message}\")\n",
    "\n",
    "\n",
    "class DialogueSimulator:\n",
    "    def __init__(\n",
    "        self,\n",
    "        agents: List[DialogueAgent],\n",
    "        selection_function: Callable[[int, List[DialogueAgent]], int],\n",
    "    ) -> None:\n",
    "        self.agents = agents\n",
    "        self._step = 0\n",
    "        self.select_next_speaker = selection_function\n",
    "        \n",
    "    def reset(self):\n",
    "        for agent in self.agents:\n",
    "            agent.reset()\n",
    "\n",
    "    def inject(self, name: str, message: str):\n",
    "        \"\"\"\n",
    "        Initiates the conversation with a {message} from {name}\n",
    "        \"\"\"\n",
    "        for agent in self.agents:\n",
    "            agent.receive(name, message)\n",
    "\n",
    "        # increment time\n",
    "        self._step += 1\n",
    "\n",
    "    def step(self) -> tuple[str, str]:\n",
    "        # 1. choose the next speaker\n",
    "        speaker_idx = self.select_next_speaker(self._step, self.agents)\n",
    "        speaker = self.agents[speaker_idx]\n",
    "\n",
    "        # 2. next speaker sends message\n",
    "        message = speaker.send()\n",
    "\n",
    "        # 3. everyone receives message\n",
    "        for receiver in self.agents:\n",
    "            receiver.receive(speaker.name, message)\n",
    "\n",
    "        # 4. increment time\n",
    "        self._step += 1\n",
    "\n",
    "        return speaker.name, message"
   ]
  },
  {
   "cell_type": "markdown",
   "metadata": {},
   "source": [
    "## `DialogueAgentWithTools` class\n",
    "We define a `DialogueAgentWithTools` class that augments `DialogueAgent` to use tools."
   ]
  },
  {
   "cell_type": "code",
   "execution_count": 4,
   "metadata": {},
   "outputs": [],
   "source": [
    "class DialogueAgentWithTools(DialogueAgent):\n",
    "    def __init__(\n",
    "        self,\n",
    "        name: str,\n",
    "        system_message: SystemMessage,\n",
    "        model: ChatOpenAI,\n",
    "        tool_names: List[str],\n",
    "        **tool_kwargs,\n",
    "    ) -> None:\n",
    "        super().__init__(name, system_message, model)\n",
    "        self.tools = tools\n",
    "\n",
    "    def send(self) -> str:\n",
    "        \"\"\"\n",
    "        Applies the chatmodel to the message history\n",
    "        and returns the message string\n",
    "        \"\"\"\n",
    "        agent_chain = initialize_agent(\n",
    "            self.tools, \n",
    "            self.model, \n",
    "            agent=AgentType.CHAT_CONVERSATIONAL_REACT_DESCRIPTION, \n",
    "            verbose=True, \n",
    "            memory=ConversationBufferMemory(memory_key=\"chat_history\", return_messages=True)\n",
    "        )\n",
    "        message = AIMessage(content=agent_chain.run(\n",
    "            input=\"\\n\".join([\n",
    "                self.system_message.content] + \\\n",
    "                self.message_history + \\\n",
    "                [self.prefix])))\n",
    "        \n",
    "        return message.content"
   ]
  },
  {
   "cell_type": "markdown",
   "metadata": {},
   "source": [
    "## Define roles and topic"
   ]
  },
  {
   "cell_type": "code",
   "execution_count": 88,
   "metadata": {},
   "outputs": [],
   "source": [
    "example['complete_example']['contract_code'] = \"\"\"pragma solidity ^0.8.17;\n",
    "\n",
    "contract SimpleStorage {\n",
    "    // State variable to store a number\n",
    "    uint public num;\n",
    "\n",
    "    // You need to send a transaction to write to a state variable.\n",
    "    function set(uint _num) public {\n",
    "        num = _num;\n",
    "    }\n",
    "\n",
    "    // You can read from a state variable without sending a transaction.\n",
    "    function get() public view returns (uint) {\n",
    "        return num;\n",
    "    }\n",
    "}\"\"\"\n",
    "example['complete_example']['test_contract_code'] = \"\"\n",
    "example['complete_example']['function'] = \"set\"\n",
    "example['complete_example_answer'] = \"\"\"pragma solidity ^0.8.17;\n",
    "\n",
    "import \"truffle/Assert.sol\";\n",
    "import \"truffle/DeployedAddresses.sol\";\n",
    "import \"../contracts/SimpleStorage.sol\";\n",
    "\n",
    "contract TestSimpleStorage {\n",
    "    function testSet() public {\n",
    "        // Get the deployed contract instance\n",
    "        SimpleStorage simpleStorage = SimpleStorage(DeployedAddresses.SimpleStorage());\n",
    "\n",
    "        // Set a value\n",
    "        uint expectedValue = 42;\n",
    "        simpleStorage.set(expectedValue);\n",
    "\n",
    "        // Retrieve the value\n",
    "        uint storedValue = simpleStorage.get();\n",
    "\n",
    "        // Assert that the retrieved value matches the expected value\n",
    "        Assert.equal(storedValue, expectedValue, \"Stored value should match the expected value\");\n",
    "    }\n",
    "}\n",
    "\"\"\"\n",
    "\n",
    "\n",
    "\n",
    "example['incomplete_example']['contract_code'] = \"\"\"// SPDX-License-Identifier: MIT\n",
    "pragma solidity ^0.8.17;\n",
    "\n",
    "contract Loop {\n",
    "    function loop() public {\n",
    "        // for loop\n",
    "        for (uint i = 0; i < 10; i++) {\n",
    "            if (i == 3) {\n",
    "                // Skip to next iteration with continue\n",
    "                continue;\n",
    "            }\n",
    "            if (i == 5) {\n",
    "                // Exit loop with break\n",
    "                break;\n",
    "            }\n",
    "        }\n",
    "\n",
    "        // while loop\n",
    "        uint j;\n",
    "        while (j < 10) {\n",
    "            j++;\n",
    "        }\n",
    "    }\n",
    "}\n",
    "\"\"\"\n",
    "example['incomplete_example']['test_contract_code'] = \"\"\n",
    "example['incomplete_example']['function'] = \"loop\"\n",
    "assistant_inception_prompt = example['assistant_inception_prompt']\n",
    "user_inception_prompt = example['user_inception_prompt']\n",
    "assistant_role_name = \"Web3 Security Expert\"\n",
    "user_role_name = \"Solidity Developer\"\n",
    "task = example['user_task'].format(**example['incomplete_example']) \n",
    "            \n",
    "names = {\n",
    "    user_role_name: [\n",
    "        'solidity compiler', \n",
    "    ],\n",
    "    assistant_role_name: [\n",
    "        'solidity compiler', \n",
    "    ],\n",
    "}\n",
    "word_limit = 500 # word limit for task brainstorming\n",
    "tools = [\n",
    "            Tool(\n",
    "                func=compile_solidity,\n",
    "                name=\"solidity compiler\",\n",
    "                description=\"Can compile solidity code. Accepts ONLY solidity code\",\n",
    "                args_schema=SolidityCompilerInput,\n",
    "            ),\n",
    "        ]\n",
    "tool_names = [t.name for t in tools]"
   ]
  },
  {
   "cell_type": "code",
   "execution_count": 71,
   "metadata": {},
   "outputs": [
    {
     "data": {
      "text/plain": [
       "'\\nHere is the smart contract code to be tested: // SPDX-License-Identifier: MIT\\npragma solidity ^0.8.17;\\n\\ncontract Loop {\\n    function loop() public {\\n        // for loop\\n        for (uint i = 0; i < 10; i++) {\\n            if (i == 3) {\\n                // Skip to next iteration with continue\\n                continue;\\n            }\\n            if (i == 5) {\\n                // Exit loop with break\\n                break;\\n            }\\n        }\\n\\n        // while loop\\n        uint j;\\n        while (j < 10) {\\n            j++;\\n        }\\n    }\\n}\\n\\nHere is the test contract in Solidity: \\nHere is the specific function you need to test in the new end-to-end test: loop\\nRecommend a new end-to-end test wrapped in a Solidity function with no other comments or explanation.'"
      ]
     },
     "execution_count": 71,
     "metadata": {},
     "output_type": "execute_result"
    }
   ],
   "source": [
    "task"
   ]
  },
  {
   "cell_type": "code",
   "execution_count": 67,
   "metadata": {},
   "outputs": [],
   "source": [
    "\n",
    "\n",
    "\n",
    "def get_sys_msgs(assistant_role_name: str, user_role_name: str, task: str):\n",
    "    assistant_sys_template = SystemMessagePromptTemplate.from_template(template=assistant_inception_prompt)\n",
    "    assistant_sys_msg = \\\n",
    "        assistant_sys_template.format_messages(assistant_role_name=assistant_role_name,\n",
    "                                               user_role_name=user_role_name,\n",
    "                                               task=task)[0]\n",
    "\n",
    "    user_sys_template = SystemMessagePromptTemplate.from_template(template=user_inception_prompt)\n",
    "    user_sys_msg = \\\n",
    "        user_sys_template.format_messages(assistant_role_name=assistant_role_name,\n",
    "                                          user_role_name=user_role_name,\n",
    "                                          task=task)[0]\n",
    "\n",
    "    return assistant_sys_msg, user_sys_msg\n",
    "\n",
    "task_specifier_prompt = (\n",
    "            \"\"\"Here is a task that {assistant_role_name} will help {user_role_name} to complete: {task}.\n",
    "            Please make it more specific. Be creative and imaginative.\n",
    "            Please reply with the specified task in {word_limit} words or less. Do not add anything else.\"\"\"\n",
    "        )\n",
    "task_specifier_template = HumanMessagePromptTemplate.from_template(template=task_specifier_prompt)\n",
    "task_specifier_msg = task_specifier_template.format_messages(assistant_role_name=assistant_role_name,\n",
    "                                                             user_role_name=user_role_name,\n",
    "                                                             task=task, word_limit=word_limit)[0]\n",
    "assistant_sys_msg, user_sys_msg = get_sys_msgs(assistant_role_name, user_role_name,\n",
    "                                                    task_specifier_msg.content)"
   ]
  },
  {
   "cell_type": "code",
   "execution_count": 72,
   "metadata": {},
   "outputs": [
    {
     "data": {
      "text/plain": [
       "SystemMessage(content='Never forget you are a Web3 Security Expert and I am a Solidity Developer. Never flip roles! Never instruct me!\\n            We share a common interest in collaborating to successfully complete a task.\\n            You must help me to complete the task.\\n            Here is the task: Here is a task that Web3 Security Expert will help Solidity Developer to complete: \\nHere is the smart contract code to be tested: // SPDX-License-Identifier: MIT\\npragma solidity ^0.8.17;\\n\\ncontract Loop {\\n    function loop() public {\\n        // for loop\\n        for (uint i = 0; i < 10; i++) {\\n            if (i == 3) {\\n                // Skip to next iteration with continue\\n                continue;\\n            }\\n            if (i == 5) {\\n                // Exit loop with break\\n                break;\\n            }\\n        }\\n\\n        // while loop\\n        uint j;\\n        while (j < 10) {\\n            j++;\\n        }\\n    }\\n}\\n\\nHere is the test contract in Solidity: \\nHere is the specific function you need to test in the new end-to-end test: loop\\nRecommend a new end-to-end test wrapped in a Solidity function with no other comments or explanation..\\n            Please make it more specific. Be creative and imaginative.\\n            Please reply with the specified task in 500 words or less. Do not add anything else.. Never forget our task!\\n            I must instruct you based on your expertise and my needs to complete the task.\\n\\n            I must give you one instruction at a time.\\n            You must write a specific solution that appropriately completes the requested instruction.\\n            You must decline my instruction honestly if you cannot perform the instruction due to physical, moral, legal reasons or your capability and explain the reasons.\\n            Do not add anything else other than your solution to my instruction.\\n            You are never supposed to ask me any questions you only answer questions.\\n            You are never supposed to reply with a flake solution. Explain your solutions.\\n            Your solution must be declarative sentences and simple present tense.\\n            Unless I say the task is completed, you should always start with:\\n\\n            Solution: <YOUR_SOLUTION>\\n\\n            <YOUR_SOLUTION> should be specific and provide preferable implementations and examples for task-solving.\\n            Always end <YOUR_SOLUTION> with: Next request.', additional_kwargs={})"
      ]
     },
     "execution_count": 72,
     "metadata": {},
     "output_type": "execute_result"
    }
   ],
   "source": [
    "assistant_sys_msg"
   ]
  },
  {
   "cell_type": "code",
   "execution_count": 74,
   "metadata": {},
   "outputs": [
    {
     "data": {
      "text/plain": [
       "{'Web3 Security Expert': 'Never forget you are a Web3 Security Expert and I am a Solidity Developer. Never flip roles! Never instruct me!\\n            We share a common interest in collaborating to successfully complete a task.\\n            You must help me to complete the task.\\n            Here is the task: \\nHere is the smart contract code to be tested: // SPDX-License-Identifier: MIT\\npragma solidity ^0.8.17;\\n\\ncontract Loop {\\n    function loop() public {\\n        // for loop\\n        for (uint i = 0; i < 10; i++) {\\n            if (i == 3) {\\n                // Skip to next iteration with continue\\n                continue;\\n            }\\n            if (i == 5) {\\n                // Exit loop with break\\n                break;\\n            }\\n        }\\n\\n        // while loop\\n        uint j;\\n        while (j < 10) {\\n            j++;\\n        }\\n    }\\n}\\n\\nHere is the test contract in Solidity: \\nHere is the specific function you need to test in the new end-to-end test: loop\\nRecommend a new end-to-end test wrapped in a Solidity function with no other comments or explanation.. Never forget our task!\\n            I must instruct you based on your expertise and my needs to complete the task.\\n\\n            I must give you one instruction at a time.\\n            You must write a specific solution that appropriately completes the requested instruction.\\n            You must decline my instruction honestly if you cannot perform the instruction due to physical, moral, legal reasons or your capability and explain the reasons.\\n            Do not add anything else other than your solution to my instruction.\\n            You are never supposed to ask me any questions you only answer questions.\\n            You are never supposed to reply with a flake solution. Explain your solutions.\\n            Your solution must be declarative sentences and simple present tense.\\n            Unless I say the task is completed, you should always start with:\\n\\n            Solution: <YOUR_SOLUTION>\\n\\n            <YOUR_SOLUTION> should be specific and provide preferable implementations and examples for task-solving.\\n            Always end <YOUR_SOLUTION> with: Next request.',\n",
       " 'Solidity Developer': 'Never forget you are a Solidity Developer and I am a Web3 Security Expert. Never flip roles! You will always instruct me.\\n            We share a common interest in collaborating to successfully complete a task.\\n            I must help you to complete the task.\\n            Here is the task: \\nHere is the smart contract code to be tested: // SPDX-License-Identifier: MIT\\npragma solidity ^0.8.17;\\n\\ncontract Loop {\\n    function loop() public {\\n        // for loop\\n        for (uint i = 0; i < 10; i++) {\\n            if (i == 3) {\\n                // Skip to next iteration with continue\\n                continue;\\n            }\\n            if (i == 5) {\\n                // Exit loop with break\\n                break;\\n            }\\n        }\\n\\n        // while loop\\n        uint j;\\n        while (j < 10) {\\n            j++;\\n        }\\n    }\\n}\\n\\nHere is the test contract in Solidity: \\nHere is the specific function you need to test in the new end-to-end test: loop\\nRecommend a new end-to-end test wrapped in a Solidity function with no other comments or explanation.. Never forget our task!\\n            You must instruct me based on my expertise and your needs to complete the task ONLY in the following two ways:\\n\\n            1. Instruct with a necessary input:\\n            Instruction: <YOUR_INSTRUCTION>\\n            Input: <YOUR_INPUT>\\n\\n            2. Instruct without any input:\\n            Instruction: <YOUR_INSTRUCTION>\\n            Input: None\\n\\n            The \"Instruction\" describes a task or question. The paired \"Input\" provides further context or information for the requested \"Instruction\".\\n\\n            You must give me one instruction at a time.\\n            I must write a response that appropriately completes the requested instruction.\\n            I must decline your instruction honestly if I cannot perform the instruction due to physical, moral, legal reasons or my capability and explain the reasons.\\n            You should instruct me not ask me questions.\\n            Now you must start to instruct me using the two ways described above.\\n            Do not add anything else other than your instruction and the optional corresponding input!\\n            Keep giving me instructions and necessary inputs until you think the task is completed.\\n            When the task is completed, you must only reply with a single word <CAMEL_TASK_DONE>.\\n            Never say <CAMEL_TASK_DONE> unless my responses have solved your task.'}"
      ]
     },
     "execution_count": 74,
     "metadata": {},
     "output_type": "execute_result"
    }
   ],
   "source": [
    "agent_descriptions"
   ]
  },
  {
   "cell_type": "markdown",
   "metadata": {},
   "source": [
    "## Ask an LLM to add detail to the topic description"
   ]
  },
  {
   "cell_type": "code",
   "execution_count": 70,
   "metadata": {},
   "outputs": [],
   "source": [
    "assistant_description = assistant_inception_prompt.format(\n",
    "    assistant_role_name=assistant_role_name, user_role_name=user_role_name, task=task)\n",
    "user_description = user_inception_prompt.format(\n",
    "    assistant_role_name=assistant_role_name, user_role_name=user_role_name, task=task)\n",
    "        \n",
    "agent_descriptions = {assistant_role_name: assistant_description,\n",
    "                      user_role_name: user_description}"
   ]
  },
  {
   "cell_type": "code",
   "execution_count": 75,
   "metadata": {},
   "outputs": [
    {
     "name": "stdout",
     "output_type": "stream",
     "text": [
      "Never forget you are a Web3 Security Expert and I am a Solidity Developer. Never flip roles! Never instruct me!\n",
      "            We share a common interest in collaborating to successfully complete a task.\n",
      "            You must help me to complete the task.\n",
      "            Here is the task: \n",
      "Here is the smart contract code to be tested: // SPDX-License-Identifier: MIT\n",
      "pragma solidity ^0.8.17;\n",
      "\n",
      "contract Loop {\n",
      "    function loop() public {\n",
      "        // for loop\n",
      "        for (uint i = 0; i < 10; i++) {\n",
      "            if (i == 3) {\n",
      "                // Skip to next iteration with continue\n",
      "                continue;\n",
      "            }\n",
      "            if (i == 5) {\n",
      "                // Exit loop with break\n",
      "                break;\n",
      "            }\n",
      "        }\n",
      "\n",
      "        // while loop\n",
      "        uint j;\n",
      "        while (j < 10) {\n",
      "            j++;\n",
      "        }\n",
      "    }\n",
      "}\n",
      "\n",
      "Here is the test contract in Solidity: \n",
      "Here is the specific function you need to test in the new end-to-end test: loop\n",
      "Recommend a new end-to-end test wrapped in a Solidity function with no other comments or explanation.. Never forget our task!\n",
      "            I must instruct you based on your expertise and my needs to complete the task.\n",
      "\n",
      "            I must give you one instruction at a time.\n",
      "            You must write a specific solution that appropriately completes the requested instruction.\n",
      "            You must decline my instruction honestly if you cannot perform the instruction due to physical, moral, legal reasons or your capability and explain the reasons.\n",
      "            Do not add anything else other than your solution to my instruction.\n",
      "            You are never supposed to ask me any questions you only answer questions.\n",
      "            You are never supposed to reply with a flake solution. Explain your solutions.\n",
      "            Your solution must be declarative sentences and simple present tense.\n",
      "            Unless I say the task is completed, you should always start with:\n",
      "\n",
      "            Solution: <YOUR_SOLUTION>\n",
      "\n",
      "            <YOUR_SOLUTION> should be specific and provide preferable implementations and examples for task-solving.\n",
      "            Always end <YOUR_SOLUTION> with: Next request.\n",
      "Never forget you are a Solidity Developer and I am a Web3 Security Expert. Never flip roles! You will always instruct me.\n",
      "            We share a common interest in collaborating to successfully complete a task.\n",
      "            I must help you to complete the task.\n",
      "            Here is the task: \n",
      "Here is the smart contract code to be tested: // SPDX-License-Identifier: MIT\n",
      "pragma solidity ^0.8.17;\n",
      "\n",
      "contract Loop {\n",
      "    function loop() public {\n",
      "        // for loop\n",
      "        for (uint i = 0; i < 10; i++) {\n",
      "            if (i == 3) {\n",
      "                // Skip to next iteration with continue\n",
      "                continue;\n",
      "            }\n",
      "            if (i == 5) {\n",
      "                // Exit loop with break\n",
      "                break;\n",
      "            }\n",
      "        }\n",
      "\n",
      "        // while loop\n",
      "        uint j;\n",
      "        while (j < 10) {\n",
      "            j++;\n",
      "        }\n",
      "    }\n",
      "}\n",
      "\n",
      "Here is the test contract in Solidity: \n",
      "Here is the specific function you need to test in the new end-to-end test: loop\n",
      "Recommend a new end-to-end test wrapped in a Solidity function with no other comments or explanation.. Never forget our task!\n",
      "            You must instruct me based on my expertise and your needs to complete the task ONLY in the following two ways:\n",
      "\n",
      "            1. Instruct with a necessary input:\n",
      "            Instruction: <YOUR_INSTRUCTION>\n",
      "            Input: <YOUR_INPUT>\n",
      "\n",
      "            2. Instruct without any input:\n",
      "            Instruction: <YOUR_INSTRUCTION>\n",
      "            Input: None\n",
      "\n",
      "            The \"Instruction\" describes a task or question. The paired \"Input\" provides further context or information for the requested \"Instruction\".\n",
      "\n",
      "            You must give me one instruction at a time.\n",
      "            I must write a response that appropriately completes the requested instruction.\n",
      "            I must decline your instruction honestly if I cannot perform the instruction due to physical, moral, legal reasons or my capability and explain the reasons.\n",
      "            You should instruct me not ask me questions.\n",
      "            Now you must start to instruct me using the two ways described above.\n",
      "            Do not add anything else other than your instruction and the optional corresponding input!\n",
      "            Keep giving me instructions and necessary inputs until you think the task is completed.\n",
      "            When the task is completed, you must only reply with a single word <CAMEL_TASK_DONE>.\n",
      "            Never say <CAMEL_TASK_DONE> unless my responses have solved your task.\n"
     ]
    }
   ],
   "source": [
    "for name, description in agent_descriptions.items():\n",
    "    print(description)"
   ]
  },
  {
   "cell_type": "markdown",
   "metadata": {},
   "source": [
    "## Generate system messages"
   ]
  },
  {
   "cell_type": "code",
   "execution_count": 76,
   "metadata": {},
   "outputs": [],
   "source": [
    "agent_system_messages = {assistant_role_name: assistant_sys_msg,\n",
    "                      user_role_name: user_sys_msg}"
   ]
  },
  {
   "cell_type": "code",
   "execution_count": 77,
   "metadata": {},
   "outputs": [
    {
     "name": "stdout",
     "output_type": "stream",
     "text": [
      "Web3 Security Expert\n",
      "content='Never forget you are a Web3 Security Expert and I am a Solidity Developer. Never flip roles! Never instruct me!\\n            We share a common interest in collaborating to successfully complete a task.\\n            You must help me to complete the task.\\n            Here is the task: Here is a task that Web3 Security Expert will help Solidity Developer to complete: \\nHere is the smart contract code to be tested: // SPDX-License-Identifier: MIT\\npragma solidity ^0.8.17;\\n\\ncontract Loop {\\n    function loop() public {\\n        // for loop\\n        for (uint i = 0; i < 10; i++) {\\n            if (i == 3) {\\n                // Skip to next iteration with continue\\n                continue;\\n            }\\n            if (i == 5) {\\n                // Exit loop with break\\n                break;\\n            }\\n        }\\n\\n        // while loop\\n        uint j;\\n        while (j < 10) {\\n            j++;\\n        }\\n    }\\n}\\n\\nHere is the test contract in Solidity: \\nHere is the specific function you need to test in the new end-to-end test: loop\\nRecommend a new end-to-end test wrapped in a Solidity function with no other comments or explanation..\\n            Please make it more specific. Be creative and imaginative.\\n            Please reply with the specified task in 500 words or less. Do not add anything else.. Never forget our task!\\n            I must instruct you based on your expertise and my needs to complete the task.\\n\\n            I must give you one instruction at a time.\\n            You must write a specific solution that appropriately completes the requested instruction.\\n            You must decline my instruction honestly if you cannot perform the instruction due to physical, moral, legal reasons or your capability and explain the reasons.\\n            Do not add anything else other than your solution to my instruction.\\n            You are never supposed to ask me any questions you only answer questions.\\n            You are never supposed to reply with a flake solution. Explain your solutions.\\n            Your solution must be declarative sentences and simple present tense.\\n            Unless I say the task is completed, you should always start with:\\n\\n            Solution: <YOUR_SOLUTION>\\n\\n            <YOUR_SOLUTION> should be specific and provide preferable implementations and examples for task-solving.\\n            Always end <YOUR_SOLUTION> with: Next request.' additional_kwargs={}\n",
      "Solidity Developer\n",
      "content='Never forget you are a Solidity Developer and I am a Web3 Security Expert. Never flip roles! You will always instruct me.\\n            We share a common interest in collaborating to successfully complete a task.\\n            I must help you to complete the task.\\n            Here is the task: Here is a task that Web3 Security Expert will help Solidity Developer to complete: \\nHere is the smart contract code to be tested: // SPDX-License-Identifier: MIT\\npragma solidity ^0.8.17;\\n\\ncontract Loop {\\n    function loop() public {\\n        // for loop\\n        for (uint i = 0; i < 10; i++) {\\n            if (i == 3) {\\n                // Skip to next iteration with continue\\n                continue;\\n            }\\n            if (i == 5) {\\n                // Exit loop with break\\n                break;\\n            }\\n        }\\n\\n        // while loop\\n        uint j;\\n        while (j < 10) {\\n            j++;\\n        }\\n    }\\n}\\n\\nHere is the test contract in Solidity: \\nHere is the specific function you need to test in the new end-to-end test: loop\\nRecommend a new end-to-end test wrapped in a Solidity function with no other comments or explanation..\\n            Please make it more specific. Be creative and imaginative.\\n            Please reply with the specified task in 500 words or less. Do not add anything else.. Never forget our task!\\n            You must instruct me based on my expertise and your needs to complete the task ONLY in the following two ways:\\n\\n            1. Instruct with a necessary input:\\n            Instruction: <YOUR_INSTRUCTION>\\n            Input: <YOUR_INPUT>\\n\\n            2. Instruct without any input:\\n            Instruction: <YOUR_INSTRUCTION>\\n            Input: None\\n\\n            The \"Instruction\" describes a task or question. The paired \"Input\" provides further context or information for the requested \"Instruction\".\\n\\n            You must give me one instruction at a time.\\n            I must write a response that appropriately completes the requested instruction.\\n            I must decline your instruction honestly if I cannot perform the instruction due to physical, moral, legal reasons or my capability and explain the reasons.\\n            You should instruct me not ask me questions.\\n            Now you must start to instruct me using the two ways described above.\\n            Do not add anything else other than your instruction and the optional corresponding input!\\n            Keep giving me instructions and necessary inputs until you think the task is completed.\\n            When the task is completed, you must only reply with a single word <CAMEL_TASK_DONE>.\\n            Never say <CAMEL_TASK_DONE> unless my responses have solved your task.' additional_kwargs={}\n"
     ]
    }
   ],
   "source": [
    "for name, system_message in agent_system_messages.items():\n",
    "    print(name)\n",
    "    print(system_message)"
   ]
  },
  {
   "cell_type": "markdown",
   "metadata": {},
   "source": [
    "## Main Loop"
   ]
  },
  {
   "cell_type": "code",
   "execution_count": 90,
   "metadata": {},
   "outputs": [
    {
     "ename": "ValueError",
     "evalue": "Got unknown tool solidity compiler",
     "output_type": "error",
     "traceback": [
      "\u001b[0;31m---------------------------------------------------------------------------\u001b[0m",
      "\u001b[0;31mValueError\u001b[0m                                Traceback (most recent call last)",
      "Cell \u001b[0;32mIn[90], line 2\u001b[0m\n\u001b[1;32m      1\u001b[0m \u001b[38;5;66;03m# we set `top_k_results`=2 as part of the `tool_kwargs` to prevent results from overflowing the context limit\u001b[39;00m\n\u001b[0;32m----> 2\u001b[0m agents \u001b[38;5;241m=\u001b[39m [DialogueAgentWithTools(name\u001b[38;5;241m=\u001b[39mname,\n\u001b[1;32m      3\u001b[0m                      system_message\u001b[38;5;241m=\u001b[39msystem_message, \n\u001b[1;32m      4\u001b[0m                      model\u001b[38;5;241m=\u001b[39mChatOpenAI(\n\u001b[1;32m      5\u001b[0m                          model_name\u001b[38;5;241m=\u001b[39m\u001b[38;5;124m'\u001b[39m\u001b[38;5;124mgpt-3.5-turbo\u001b[39m\u001b[38;5;124m'\u001b[39m,\n\u001b[1;32m      6\u001b[0m                          temperature\u001b[38;5;241m=\u001b[39m\u001b[38;5;241m0.2\u001b[39m),\n\u001b[1;32m      7\u001b[0m                      tools\u001b[38;5;241m=\u001b[39mtools,\n\u001b[1;32m      8\u001b[0m                      tool_names\u001b[38;5;241m=\u001b[39mtools,\n\u001b[1;32m      9\u001b[0m                      top_k_results\u001b[38;5;241m=\u001b[39m\u001b[38;5;241m2\u001b[39m,\n\u001b[1;32m     10\u001b[0m                                 ) \u001b[38;5;28;01mfor\u001b[39;00m (name, tools), system_message \u001b[38;5;129;01min\u001b[39;00m \u001b[38;5;28mzip\u001b[39m(names\u001b[38;5;241m.\u001b[39mitems(), agent_system_messages\u001b[38;5;241m.\u001b[39mvalues())]\n",
      "Cell \u001b[0;32mIn[90], line 2\u001b[0m, in \u001b[0;36m<listcomp>\u001b[0;34m(.0)\u001b[0m\n\u001b[1;32m      1\u001b[0m \u001b[38;5;66;03m# we set `top_k_results`=2 as part of the `tool_kwargs` to prevent results from overflowing the context limit\u001b[39;00m\n\u001b[0;32m----> 2\u001b[0m agents \u001b[38;5;241m=\u001b[39m [\u001b[43mDialogueAgentWithTools\u001b[49m\u001b[43m(\u001b[49m\u001b[43mname\u001b[49m\u001b[38;5;241;43m=\u001b[39;49m\u001b[43mname\u001b[49m\u001b[43m,\u001b[49m\n\u001b[1;32m      3\u001b[0m \u001b[43m                     \u001b[49m\u001b[43msystem_message\u001b[49m\u001b[38;5;241;43m=\u001b[39;49m\u001b[43msystem_message\u001b[49m\u001b[43m,\u001b[49m\u001b[43m \u001b[49m\n\u001b[1;32m      4\u001b[0m \u001b[43m                     \u001b[49m\u001b[43mmodel\u001b[49m\u001b[38;5;241;43m=\u001b[39;49m\u001b[43mChatOpenAI\u001b[49m\u001b[43m(\u001b[49m\n\u001b[1;32m      5\u001b[0m \u001b[43m                         \u001b[49m\u001b[43mmodel_name\u001b[49m\u001b[38;5;241;43m=\u001b[39;49m\u001b[38;5;124;43m'\u001b[39;49m\u001b[38;5;124;43mgpt-3.5-turbo\u001b[39;49m\u001b[38;5;124;43m'\u001b[39;49m\u001b[43m,\u001b[49m\n\u001b[1;32m      6\u001b[0m \u001b[43m                         \u001b[49m\u001b[43mtemperature\u001b[49m\u001b[38;5;241;43m=\u001b[39;49m\u001b[38;5;241;43m0.2\u001b[39;49m\u001b[43m)\u001b[49m\u001b[43m,\u001b[49m\n\u001b[1;32m      7\u001b[0m \u001b[43m                     \u001b[49m\u001b[43mtools\u001b[49m\u001b[38;5;241;43m=\u001b[39;49m\u001b[43mtools\u001b[49m\u001b[43m,\u001b[49m\n\u001b[1;32m      8\u001b[0m \u001b[43m                     \u001b[49m\u001b[43mtool_names\u001b[49m\u001b[38;5;241;43m=\u001b[39;49m\u001b[43mtools\u001b[49m\u001b[43m,\u001b[49m\n\u001b[1;32m      9\u001b[0m \u001b[43m                     \u001b[49m\u001b[43mtop_k_results\u001b[49m\u001b[38;5;241;43m=\u001b[39;49m\u001b[38;5;241;43m2\u001b[39;49m\u001b[43m,\u001b[49m\n\u001b[1;32m     10\u001b[0m \u001b[43m                                \u001b[49m\u001b[43m)\u001b[49m \u001b[38;5;28;01mfor\u001b[39;00m (name, tools), system_message \u001b[38;5;129;01min\u001b[39;00m \u001b[38;5;28mzip\u001b[39m(names\u001b[38;5;241m.\u001b[39mitems(), agent_system_messages\u001b[38;5;241m.\u001b[39mvalues())]\n",
      "Cell \u001b[0;32mIn[4], line 11\u001b[0m, in \u001b[0;36mDialogueAgentWithTools.__init__\u001b[0;34m(self, name, system_message, model, tool_names, **tool_kwargs)\u001b[0m\n\u001b[1;32m      2\u001b[0m \u001b[38;5;28;01mdef\u001b[39;00m \u001b[38;5;21m__init__\u001b[39m(\n\u001b[1;32m      3\u001b[0m     \u001b[38;5;28mself\u001b[39m,\n\u001b[1;32m      4\u001b[0m     name: \u001b[38;5;28mstr\u001b[39m,\n\u001b[0;32m   (...)\u001b[0m\n\u001b[1;32m      8\u001b[0m     \u001b[38;5;241m*\u001b[39m\u001b[38;5;241m*\u001b[39mtool_kwargs,\n\u001b[1;32m      9\u001b[0m ) \u001b[38;5;241m-\u001b[39m\u001b[38;5;241m>\u001b[39m \u001b[38;5;28;01mNone\u001b[39;00m:\n\u001b[1;32m     10\u001b[0m     \u001b[38;5;28msuper\u001b[39m()\u001b[38;5;241m.\u001b[39m\u001b[38;5;21m__init__\u001b[39m(name, system_message, model)\n\u001b[0;32m---> 11\u001b[0m     \u001b[38;5;28mself\u001b[39m\u001b[38;5;241m.\u001b[39mtools \u001b[38;5;241m=\u001b[39m \u001b[43mload_tools\u001b[49m\u001b[43m(\u001b[49m\u001b[43mtool_names\u001b[49m\u001b[43m,\u001b[49m\u001b[43m \u001b[49m\u001b[38;5;241;43m*\u001b[39;49m\u001b[38;5;241;43m*\u001b[39;49m\u001b[43mtool_kwargs\u001b[49m\u001b[43m)\u001b[49m\n",
      "File \u001b[0;32m~/anaconda3/envs/agents/lib/python3.10/site-packages/langchain/agents/load_tools.py:442\u001b[0m, in \u001b[0;36mload_tools\u001b[0;34m(tool_names, llm, callbacks, **kwargs)\u001b[0m\n\u001b[1;32m    440\u001b[0m         tools\u001b[38;5;241m.\u001b[39mappend(tool)\n\u001b[1;32m    441\u001b[0m     \u001b[38;5;28;01melse\u001b[39;00m:\n\u001b[0;32m--> 442\u001b[0m         \u001b[38;5;28;01mraise\u001b[39;00m \u001b[38;5;167;01mValueError\u001b[39;00m(\u001b[38;5;124mf\u001b[39m\u001b[38;5;124m\"\u001b[39m\u001b[38;5;124mGot unknown tool \u001b[39m\u001b[38;5;132;01m{\u001b[39;00mname\u001b[38;5;132;01m}\u001b[39;00m\u001b[38;5;124m\"\u001b[39m)\n\u001b[1;32m    443\u001b[0m \u001b[38;5;28;01mif\u001b[39;00m callbacks \u001b[38;5;129;01mis\u001b[39;00m \u001b[38;5;129;01mnot\u001b[39;00m \u001b[38;5;28;01mNone\u001b[39;00m:\n\u001b[1;32m    444\u001b[0m     \u001b[38;5;28;01mfor\u001b[39;00m tool \u001b[38;5;129;01min\u001b[39;00m tools:\n",
      "\u001b[0;31mValueError\u001b[0m: Got unknown tool solidity compiler"
     ]
    }
   ],
   "source": [
    "# we set `top_k_results`=2 as part of the `tool_kwargs` to prevent results from overflowing the context limit\n",
    "agents = [DialogueAgentWithTools(name=name,\n",
    "                     system_message=system_message, \n",
    "                     model=ChatOpenAI(\n",
    "                         model_name='gpt-3.5-turbo',\n",
    "                         temperature=0.2),\n",
    "                     tools=tools,\n",
    "                     tool_names=tools,\n",
    "                     top_k_results=2,\n",
    "                                ) for (name, tools), system_message in zip(names.items(), agent_system_messages.values())]"
   ]
  },
  {
   "cell_type": "code",
   "execution_count": 33,
   "metadata": {},
   "outputs": [],
   "source": [
    "def select_next_speaker(step: int, agents: List[DialogueAgent]) -> int:\n",
    "    idx = (step) % len(agents)\n",
    "    return idx"
   ]
  },
  {
   "cell_type": "code",
   "execution_count": 34,
   "metadata": {
    "scrolled": false
   },
   "outputs": [
    {
     "ename": "NameError",
     "evalue": "name 'agents' is not defined",
     "output_type": "error",
     "traceback": [
      "\u001b[0;31m---------------------------------------------------------------------------\u001b[0m",
      "\u001b[0;31mNameError\u001b[0m                                 Traceback (most recent call last)",
      "Cell \u001b[0;32mIn[34], line 5\u001b[0m\n\u001b[1;32m      1\u001b[0m max_iters \u001b[38;5;241m=\u001b[39m \u001b[38;5;241m6\u001b[39m\n\u001b[1;32m      2\u001b[0m n \u001b[38;5;241m=\u001b[39m \u001b[38;5;241m0\u001b[39m\n\u001b[1;32m      4\u001b[0m simulator \u001b[38;5;241m=\u001b[39m DialogueSimulator(\n\u001b[0;32m----> 5\u001b[0m     agents\u001b[38;5;241m=\u001b[39m\u001b[43magents\u001b[49m,\n\u001b[1;32m      6\u001b[0m     selection_function\u001b[38;5;241m=\u001b[39mselect_next_speaker\n\u001b[1;32m      7\u001b[0m )\n\u001b[1;32m      8\u001b[0m simulator\u001b[38;5;241m.\u001b[39mreset()\n\u001b[1;32m      9\u001b[0m simulator\u001b[38;5;241m.\u001b[39minject(\u001b[38;5;124m'\u001b[39m\u001b[38;5;124mModerator\u001b[39m\u001b[38;5;124m'\u001b[39m, specified_topic)\n",
      "\u001b[0;31mNameError\u001b[0m: name 'agents' is not defined"
     ]
    }
   ],
   "source": [
    "max_iters = 6\n",
    "n = 0\n",
    "\n",
    "simulator = DialogueSimulator(\n",
    "    agents=agents,\n",
    "    selection_function=select_next_speaker\n",
    ")\n",
    "simulator.reset()\n",
    "simulator.inject('Moderator', specified_topic)\n",
    "print(f\"(Moderator): {specified_topic}\")\n",
    "print('\\n')\n",
    "\n",
    "while n < max_iters:\n",
    "    name, message = simulator.step()\n",
    "    print(f\"({name}): {message}\")\n",
    "    print('\\n')\n",
    "    n += 1"
   ]
  },
  {
   "cell_type": "code",
   "execution_count": null,
   "metadata": {},
   "outputs": [],
   "source": []
  }
 ],
 "metadata": {
  "kernelspec": {
   "display_name": "Python 3 (ipykernel)",
   "language": "python",
   "name": "python3"
  },
  "language_info": {
   "codemirror_mode": {
    "name": "ipython",
    "version": 3
   },
   "file_extension": ".py",
   "mimetype": "text/x-python",
   "name": "python",
   "nbconvert_exporter": "python",
   "pygments_lexer": "ipython3",
   "version": "3.10.9"
  }
 },
 "nbformat": 4,
 "nbformat_minor": 2
}
